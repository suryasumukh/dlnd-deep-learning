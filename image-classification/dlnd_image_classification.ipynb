{
 "cells": [
  {
   "cell_type": "markdown",
   "metadata": {
    "collapsed": true,
    "deletable": true,
    "editable": true
   },
   "source": [
    "# Image Classification\n",
    "In this project, you'll classify images from the [CIFAR-10 dataset](https://www.cs.toronto.edu/~kriz/cifar.html).  The dataset consists of airplanes, dogs, cats, and other objects. You'll preprocess the images, then train a convolutional neural network on all the samples. The images need to be normalized and the labels need to be one-hot encoded.  You'll get to apply what you learned and build a convolutional, max pooling, dropout, and fully connected layers.  At the end, you'll get to see your neural network's predictions on the sample images.\n",
    "## Get the Data\n",
    "Run the following cell to download the [CIFAR-10 dataset for python](https://www.cs.toronto.edu/~kriz/cifar-10-python.tar.gz)."
   ]
  },
  {
   "cell_type": "code",
   "execution_count": 1,
   "metadata": {
    "collapsed": false,
    "deletable": true,
    "editable": true
   },
   "outputs": [
    {
     "name": "stdout",
     "output_type": "stream",
     "text": [
      "All files found!\n"
     ]
    }
   ],
   "source": [
    "\"\"\"\n",
    "DON'T MODIFY ANYTHING IN THIS CELL THAT IS BELOW THIS LINE\n",
    "\"\"\"\n",
    "from urllib.request import urlretrieve\n",
    "from os.path import isfile, isdir\n",
    "from tqdm import tqdm\n",
    "import problem_unittests as tests\n",
    "import tarfile\n",
    "\n",
    "cifar10_dataset_folder_path = 'cifar-10-batches-py'\n",
    "\n",
    "# Use Floyd's cifar-10 dataset if present\n",
    "floyd_cifar10_location = '/input/cifar-10/python.tar.gz'\n",
    "if isfile(floyd_cifar10_location):\n",
    "    tar_gz_path = floyd_cifar10_location\n",
    "else:\n",
    "    tar_gz_path = 'cifar-10-python.tar.gz'\n",
    "\n",
    "class DLProgress(tqdm):\n",
    "    last_block = 0\n",
    "\n",
    "    def hook(self, block_num=1, block_size=1, total_size=None):\n",
    "        self.total = total_size\n",
    "        self.update((block_num - self.last_block) * block_size)\n",
    "        self.last_block = block_num\n",
    "\n",
    "if not isfile(tar_gz_path):\n",
    "    with DLProgress(unit='B', unit_scale=True, miniters=1, desc='CIFAR-10 Dataset') as pbar:\n",
    "        urlretrieve(\n",
    "            'https://www.cs.toronto.edu/~kriz/cifar-10-python.tar.gz',\n",
    "            tar_gz_path,\n",
    "            pbar.hook)\n",
    "\n",
    "if not isdir(cifar10_dataset_folder_path):\n",
    "    with tarfile.open(tar_gz_path) as tar:\n",
    "        tar.extractall()\n",
    "        tar.close()\n",
    "\n",
    "\n",
    "tests.test_folder_path(cifar10_dataset_folder_path)"
   ]
  },
  {
   "cell_type": "markdown",
   "metadata": {
    "deletable": true,
    "editable": true
   },
   "source": [
    "## Explore the Data\n",
    "The dataset is broken into batches to prevent your machine from running out of memory.  The CIFAR-10 dataset consists of 5 batches, named `data_batch_1`, `data_batch_2`, etc.. Each batch contains the labels and images that are one of the following:\n",
    "* airplane\n",
    "* automobile\n",
    "* bird\n",
    "* cat\n",
    "* deer\n",
    "* dog\n",
    "* frog\n",
    "* horse\n",
    "* ship\n",
    "* truck\n",
    "\n",
    "Understanding a dataset is part of making predictions on the data.  Play around with the code cell below by changing the `batch_id` and `sample_id`. The `batch_id` is the id for a batch (1-5). The `sample_id` is the id for a image and label pair in the batch.\n",
    "\n",
    "Ask yourself \"What are all possible labels?\", \"What is the range of values for the image data?\", \"Are the labels in order or random?\".  Answers to questions like these will help you preprocess the data and end up with better predictions."
   ]
  },
  {
   "cell_type": "code",
   "execution_count": 2,
   "metadata": {
    "collapsed": false,
    "deletable": true,
    "editable": true
   },
   "outputs": [
    {
     "name": "stdout",
     "output_type": "stream",
     "text": [
      "\n",
      "Stats of batch 1:\n",
      "Samples: 10000\n",
      "Label Counts: {0: 1005, 1: 974, 2: 1032, 3: 1016, 4: 999, 5: 937, 6: 1030, 7: 1001, 8: 1025, 9: 981}\n",
      "First 20 Labels: [6, 9, 9, 4, 1, 1, 2, 7, 8, 3, 4, 7, 7, 2, 9, 9, 9, 3, 2, 6]\n",
      "\n",
      "Example of Image 5:\n",
      "Image - Min Value: 0 Max Value: 252\n",
      "Image - Shape: (32, 32, 3)\n",
      "Label - Label Id: 1 Name: automobile\n"
     ]
    },
    {
     "data": {
      "image/png": "[encoded data removed]",
      "text/plain": [
       "<matplotlib.figure.Figure at 0x7f8a38554390>"
      ]
     },
     "metadata": {
      "image/png": {
       "height": 250,
       "width": 253
      }
     },
     "output_type": "display_data"
    }
   ],
   "source": [
    "%matplotlib inline\n",
    "%config InlineBackend.figure_format = 'retina'\n",
    "\n",
    "import helper\n",
    "import numpy as np\n",
    "\n",
    "# Explore the dataset\n",
    "batch_id = 1\n",
    "sample_id = 5\n",
    "helper.display_stats(cifar10_dataset_folder_path, batch_id, sample_id)"
   ]
  },
  {
   "cell_type": "markdown",
   "metadata": {
    "deletable": true,
    "editable": true
   },
   "source": [
    "## Implement Preprocess Functions\n",
    "### Normalize\n",
    "In the cell below, implement the `normalize` function to take in image data, `x`, and return it as a normalized Numpy array. The values should be in the range of 0 to 1, inclusive.  The return object should be the same shape as `x`."
   ]
  },
  {
   "cell_type": "code",
   "execution_count": 3,
   "metadata": {
    "collapsed": false,
    "deletable": true,
    "editable": true
   },
   "outputs": [
    {
     "name": "stdout",
     "output_type": "stream",
     "text": [
      "Tests Passed\n"
     ]
    }
   ],
   "source": [
    "def normalize(x):\n",
    "    \"\"\"\n",
    "    Normalize a list of sample image data in the range of 0 to 1\n",
    "    : x: List of image data.  The image shape is (32, 32, 3)\n",
    "    : return: Numpy array of normalize data\n",
    "    \"\"\"\n",
    "    # Implement Function\n",
    "    return x/255\n",
    "\n",
    "\n",
    "\"\"\"\n",
    "DON'T MODIFY ANYTHING IN THIS CELL THAT IS BELOW THIS LINE\n",
    "\"\"\"\n",
    "tests.test_normalize(normalize)"
   ]
  },
  {
   "cell_type": "markdown",
   "metadata": {
    "deletable": true,
    "editable": true
   },
   "source": [
    "### One-hot encode\n",
    "Just like the previous code cell, you'll be implementing a function for preprocessing.  This time, you'll implement the `one_hot_encode` function. The input, `x`, are a list of labels.  Implement the function to return the list of labels as One-Hot encoded Numpy array.  The possible values for labels are 0 to 9. The one-hot encoding function should return the same encoding for each value between each call to `one_hot_encode`.  Make sure to save the map of encodings outside the function.\n",
    "\n",
    "Hint: Don't reinvent the wheel."
   ]
  },
  {
   "cell_type": "code",
   "execution_count": 4,
   "metadata": {
    "collapsed": false,
    "deletable": true,
    "editable": true
   },
   "outputs": [
    {
     "name": "stdout",
     "output_type": "stream",
     "text": [
      "Tests Passed\n"
     ]
    }
   ],
   "source": [
    "def one_hot_encode(x):\n",
    "    \"\"\"\n",
    "    One hot encode a list of sample labels. Return a one-hot encoded vector for each label.\n",
    "    : x: List of sample Labels\n",
    "    : return: Numpy array of one-hot encoded labels\n",
    "    \"\"\"\n",
    "    # Implement Function\n",
    "    one_hot = np.zeros((len(x), 10))\n",
    "    one_hot[np.arange(len(x)), x] = 1.\n",
    "    return one_hot\n",
    "\n",
    "\n",
    "\"\"\"\n",
    "DON'T MODIFY ANYTHING IN THIS CELL THAT IS BELOW THIS LINE\n",
    "\"\"\"\n",
    "tests.test_one_hot_encode(one_hot_encode)"
   ]
  },
  {
   "cell_type": "markdown",
   "metadata": {
    "deletable": true,
    "editable": true
   },
   "source": [
    "### Randomize Data\n",
    "As you saw from exploring the data above, the order of the samples are randomized.  It doesn't hurt to randomize it again, but you don't need to for this dataset."
   ]
  },
  {
   "cell_type": "markdown",
   "metadata": {
    "deletable": true,
    "editable": true
   },
   "source": [
    "## Preprocess all the data and save it\n",
    "Running the code cell below will preprocess all the CIFAR-10 data and save it to file. The code below also uses 10% of the training data for validation."
   ]
  },
  {
   "cell_type": "code",
   "execution_count": 5,
   "metadata": {
    "collapsed": true,
    "deletable": true,
    "editable": true
   },
   "outputs": [],
   "source": [
    "\"\"\"\n",
    "DON'T MODIFY ANYTHING IN THIS CELL\n",
    "\"\"\"\n",
    "# Preprocess Training, Validation, and Testing Data\n",
    "helper.preprocess_and_save_data(cifar10_dataset_folder_path, normalize, one_hot_encode)"
   ]
  },
  {
   "cell_type": "markdown",
   "metadata": {
    "deletable": true,
    "editable": true
   },
   "source": [
    "# Check Point\n",
    "This is your first checkpoint.  If you ever decide to come back to this notebook or have to restart the notebook, you can start from here.  The preprocessed data has been saved to disk."
   ]
  },
  {
   "cell_type": "code",
   "execution_count": 6,
   "metadata": {
    "collapsed": true,
    "deletable": true,
    "editable": true
   },
   "outputs": [],
   "source": [
    "\"\"\"\n",
    "DON'T MODIFY ANYTHING IN THIS CELL\n",
    "\"\"\"\n",
    "import pickle\n",
    "import problem_unittests as tests\n",
    "import helper\n",
    "\n",
    "# Load the Preprocessed Validation data\n",
    "valid_features, valid_labels = pickle.load(open('preprocess_validation.p', mode='rb'))"
   ]
  },
  {
   "cell_type": "markdown",
   "metadata": {
    "deletable": true,
    "editable": true
   },
   "source": [
    "## Build the network\n",
    "For the neural network, you'll build each layer into a function.  Most of the code you've seen has been outside of functions. To test your code more thoroughly, we require that you put each layer in a function.  This allows us to give you better feedback and test for simple mistakes using our unittests before you submit your project.\n",
    "\n",
    ">**Note:** If you're finding it hard to dedicate enough time for this course each week, we've provided a small shortcut to this part of the project. In the next couple of problems, you'll have the option to use classes from the [TensorFlow Layers](https://www.tensorflow.org/api_docs/python/tf/layers) or [TensorFlow Layers (contrib)](https://www.tensorflow.org/api_guides/python/contrib.layers) packages to build each layer, except the layers you build in the \"Convolutional and Max Pooling Layer\" section.  TF Layers is similar to Keras's and TFLearn's abstraction to layers, so it's easy to pickup.\n",
    "\n",
    ">However, if you would like to get the most out of this course, try to solve all the problems _without_ using anything from the TF Layers packages. You **can** still use classes from other packages that happen to have the same name as ones you find in TF Layers! For example, instead of using the TF Layers version of the `conv2d` class, [tf.layers.conv2d](https://www.tensorflow.org/api_docs/python/tf/layers/conv2d), you would want to use the TF Neural Network version of `conv2d`, [tf.nn.conv2d](https://www.tensorflow.org/api_docs/python/tf/nn/conv2d). \n",
    "\n",
    "Let's begin!\n",
    "\n",
    "### Input\n",
    "The neural network needs to read the image data, one-hot encoded labels, and dropout keep probability. Implement the following functions\n",
    "* Implement `neural_net_image_input`\n",
    " * Return a [TF Placeholder](https://www.tensorflow.org/api_docs/python/tf/placeholder)\n",
    " * Set the shape using `image_shape` with batch size set to `None`.\n",
    " * Name the TensorFlow placeholder \"x\" using the TensorFlow `name` parameter in the [TF Placeholder](https://www.tensorflow.org/api_docs/python/tf/placeholder).\n",
    "* Implement `neural_net_label_input`\n",
    " * Return a [TF Placeholder](https://www.tensorflow.org/api_docs/python/tf/placeholder)\n",
    " * Set the shape using `n_classes` with batch size set to `None`.\n",
    " * Name the TensorFlow placeholder \"y\" using the TensorFlow `name` parameter in the [TF Placeholder](https://www.tensorflow.org/api_docs/python/tf/placeholder).\n",
    "* Implement `neural_net_keep_prob_input`\n",
    " * Return a [TF Placeholder](https://www.tensorflow.org/api_docs/python/tf/placeholder) for dropout keep probability.\n",
    " * Name the TensorFlow placeholder \"keep_prob\" using the TensorFlow `name` parameter in the [TF Placeholder](https://www.tensorflow.org/api_docs/python/tf/placeholder).\n",
    "\n",
    "These names will be used at the end of the project to load your saved model.\n",
    "\n",
    "Note: `None` for shapes in TensorFlow allow for a dynamic size."
   ]
  },
  {
   "cell_type": "code",
   "execution_count": 7,
   "metadata": {
    "collapsed": false,
    "deletable": true,
    "editable": true
   },
   "outputs": [
    {
     "name": "stdout",
     "output_type": "stream",
     "text": [
      "Image Input Tests Passed.\n",
      "Label Input Tests Passed.\n",
      "Keep Prob Tests Passed.\n"
     ]
    }
   ],
   "source": [
    "import tensorflow as tf\n",
    "\n",
    "def neural_net_image_input(image_shape):\n",
    "    \"\"\"\n",
    "    Return a Tensor for a batch of image input\n",
    "    : image_shape: Shape of the images\n",
    "    : return: Tensor for image input.\n",
    "    \"\"\"\n",
    "    # define input placeholder \n",
    "    input_placeholder = tf.placeholder(shape=[None, image_shape[0], image_shape[1], \n",
    "                                              image_shape[2]], name='x', dtype=tf.float32)\n",
    "    return input_placeholder\n",
    "\n",
    "\n",
    "def neural_net_label_input(n_classes):\n",
    "    \"\"\"\n",
    "    Return a Tensor for a batch of label input\n",
    "    : n_classes: Number of classes\n",
    "    : return: Tensor for label input.\n",
    "    \"\"\"\n",
    "    # define labels placeholder \n",
    "    label_placeholder = tf.placeholder(shape=[None, n_classes], name='y', dtype=tf.float32)\n",
    "    return label_placeholder\n",
    "\n",
    "\n",
    "def neural_net_keep_prob_input():\n",
    "    \"\"\"\n",
    "    Return a Tensor for keep probability\n",
    "    : return: Tensor for keep probability.\n",
    "    \"\"\"\n",
    "    # define dropout placeholder \n",
    "    dropout_placeholder = tf.placeholder(dtype=tf.float32, name='keep_prob')\n",
    "    return dropout_placeholder\n",
    "\n",
    "\n",
    "\"\"\"\n",
    "DON'T MODIFY ANYTHING IN THIS CELL THAT IS BELOW THIS LINE\n",
    "\"\"\"\n",
    "tf.reset_default_graph()\n",
    "tests.test_nn_image_inputs(neural_net_image_input)\n",
    "tests.test_nn_label_inputs(neural_net_label_input)\n",
    "tests.test_nn_keep_prob_inputs(neural_net_keep_prob_input)"
   ]
  },
  {
   "cell_type": "markdown",
   "metadata": {
    "deletable": true,
    "editable": true
   },
   "source": [
    "### Convolution and Max Pooling Layer\n",
    "Convolution layers have a lot of success with images. For this code cell, you should implement the function `conv2d_maxpool` to apply convolution then max pooling:\n",
    "* Create the weight and bias using `conv_ksize`, `conv_num_outputs` and the shape of `x_tensor`.\n",
    "* Apply a convolution to `x_tensor` using weight and `conv_strides`.\n",
    " * We recommend you use same padding, but you're welcome to use any padding.\n",
    "* Add bias\n",
    "* Add a nonlinear activation to the convolution.\n",
    "* Apply Max Pooling using `pool_ksize` and `pool_strides`.\n",
    " * We recommend you use same padding, but you're welcome to use any padding.\n",
    "\n",
    "**Note:** You **can't** use [TensorFlow Layers](https://www.tensorflow.org/api_docs/python/tf/layers) or [TensorFlow Layers (contrib)](https://www.tensorflow.org/api_guides/python/contrib.layers) for **this** layer, but you can still use TensorFlow's [Neural Network](https://www.tensorflow.org/api_docs/python/tf/nn) package. You may still use the shortcut option for all the **other** layers."
   ]
  },
  {
   "cell_type": "code",
   "execution_count": 8,
   "metadata": {
    "collapsed": false,
    "deletable": true,
    "editable": true
   },
   "outputs": [
    {
     "name": "stdout",
     "output_type": "stream",
     "text": [
      "Tests Passed\n"
     ]
    }
   ],
   "source": [
    "def conv2d_maxpool(x_tensor, conv_num_outputs, conv_ksize, conv_strides, pool_ksize, pool_strides):\n",
    "    \"\"\"\n",
    "    Apply convolution then max pooling to x_tensor\n",
    "    :param x_tensor: TensorFlow Tensor\n",
    "    :param conv_num_outputs: Number of outputs for the convolutional layer\n",
    "    :param conv_ksize: kernal size 2-D Tuple for the convolutional layer\n",
    "    :param conv_strides: Stride 2-D Tuple for convolution\n",
    "    :param pool_ksize: kernal size 2-D Tuple for pool\n",
    "    :param pool_strides: Stride 2-D Tuple for pool\n",
    "    : return: A tensor that represents convolution and max pooling of x_tensor\n",
    "    \"\"\"\n",
    "    # define kernel params\n",
    "    input_depth = x_tensor.get_shape().as_list()[-1]\n",
    "    kernel_size = [conv_ksize[0], conv_ksize[1], input_depth, conv_num_outputs]\n",
    "    kernel_strides = [1, conv_strides[0], conv_strides[1], 1]\n",
    "    \n",
    "    # define weight and bias\n",
    "    weight = tf.Variable(tf.truncated_normal(shape=kernel_size))\n",
    "    bias = tf.Variable(tf.zeros(conv_num_outputs))\n",
    "    \n",
    "    # convolve on input tensor\n",
    "    conv_output = tf.nn.bias_add(tf.nn.conv2d(x_tensor, weight, strides=kernel_strides,\n",
    "                                           padding='SAME'), bias)\n",
    "    logit = tf.nn.relu(conv_output)\n",
    "    \n",
    "    # define max pool params\n",
    "    pool_size = [1, pool_ksize[0], pool_ksize[1], 1]\n",
    "    pool_stride = [1, pool_strides[0], pool_strides[1], 1]\n",
    "    \n",
    "    # max pool conv output\n",
    "    pool_output = tf.nn.max_pool(conv_output, pool_size, pool_stride, padding='SAME')\n",
    "    return pool_output \n",
    "\n",
    "\n",
    "\"\"\"\n",
    "DON'T MODIFY ANYTHING IN THIS CELL THAT IS BELOW THIS LINE\n",
    "\"\"\"\n",
    "tests.test_con_pool(conv2d_maxpool)"
   ]
  },
  {
   "cell_type": "markdown",
   "metadata": {
    "deletable": true,
    "editable": true
   },
   "source": [
    "### Flatten Layer\n",
    "Implement the `flatten` function to change the dimension of `x_tensor` from a 4-D tensor to a 2-D tensor.  The output should be the shape (*Batch Size*, *Flattened Image Size*). Shortcut option: you can use classes from the [TensorFlow Layers](https://www.tensorflow.org/api_docs/python/tf/layers) or [TensorFlow Layers (contrib)](https://www.tensorflow.org/api_guides/python/contrib.layers) packages for this layer. For more of a challenge, only use other TensorFlow packages."
   ]
  },
  {
   "cell_type": "code",
   "execution_count": 9,
   "metadata": {
    "collapsed": false,
    "deletable": true,
    "editable": true
   },
   "outputs": [
    {
     "name": "stdout",
     "output_type": "stream",
     "text": [
      "Tests Passed\n"
     ]
    }
   ],
   "source": [
    "def flatten(x_tensor):\n",
    "    \"\"\"\n",
    "    Flatten x_tensor to (Batch Size, Flattened Image Size)\n",
    "    : x_tensor: A tensor of size (Batch Size, ...), where ... are the image dimensions.\n",
    "    : return: A tensor of size (Batch Size, Flattened Image Size).\n",
    "    \"\"\"\n",
    "    # compute dim\n",
    "    dim = np.product(x_tensor.get_shape().as_list()[1:])\n",
    "    return tf.reshape(x_tensor, shape=[-1, dim])\n",
    "\n",
    "\n",
    "\"\"\"\n",
    "DON'T MODIFY ANYTHING IN THIS CELL THAT IS BELOW THIS LINE\n",
    "\"\"\"\n",
    "tests.test_flatten(flatten)"
   ]
  },
  {
   "cell_type": "markdown",
   "metadata": {
    "deletable": true,
    "editable": true
   },
   "source": [
    "### Fully-Connected Layer\n",
    "Implement the `fully_conn` function to apply a fully connected layer to `x_tensor` with the shape (*Batch Size*, *num_outputs*). Shortcut option: you can use classes from the [TensorFlow Layers](https://www.tensorflow.org/api_docs/python/tf/layers) or [TensorFlow Layers (contrib)](https://www.tensorflow.org/api_guides/python/contrib.layers) packages for this layer. For more of a challenge, only use other TensorFlow packages."
   ]
  },
  {
   "cell_type": "code",
   "execution_count": 10,
   "metadata": {
    "collapsed": false,
    "deletable": true,
    "editable": true
   },
   "outputs": [
    {
     "name": "stdout",
     "output_type": "stream",
     "text": [
      "Tests Passed\n"
     ]
    }
   ],
   "source": [
    "def fully_conn(x_tensor, num_outputs):\n",
    "    \"\"\"\n",
    "    Apply a fully connected layer to x_tensor using weight and bias\n",
    "    : x_tensor: A 2-D tensor where the first dimension is batch size.\n",
    "    : num_outputs: The number of output that the new tensor should be.\n",
    "    : return: A 2-D tensor where the second dimension is num_outputs.\n",
    "    \"\"\"\n",
    "    # compute non-linear transformation\n",
    "    input_dim = x_tensor.get_shape().as_list()[-1]\n",
    "    weight = tf.Variable(tf.truncated_normal(shape=[input_dim, num_outputs], stddev=0.01))\n",
    "    bias = tf.Variable(tf.zeros(num_outputs))\n",
    "    affine = tf.matmul(x_tensor, weight) + bias\n",
    "    return tf.nn.relu(affine)\n",
    "\n",
    "\n",
    "\"\"\"\n",
    "DON'T MODIFY ANYTHING IN THIS CELL THAT IS BELOW THIS LINE\n",
    "\"\"\"\n",
    "tests.test_fully_conn(fully_conn)"
   ]
  },
  {
   "cell_type": "markdown",
   "metadata": {
    "deletable": true,
    "editable": true
   },
   "source": [
    "### Output Layer\n",
    "Implement the `output` function to apply a fully connected layer to `x_tensor` with the shape (*Batch Size*, *num_outputs*). Shortcut option: you can use classes from the [TensorFlow Layers](https://www.tensorflow.org/api_docs/python/tf/layers) or [TensorFlow Layers (contrib)](https://www.tensorflow.org/api_guides/python/contrib.layers) packages for this layer. For more of a challenge, only use other TensorFlow packages.\n",
    "\n",
    "**Note:** Activation, softmax, or cross entropy should **not** be applied to this."
   ]
  },
  {
   "cell_type": "code",
   "execution_count": 11,
   "metadata": {
    "collapsed": false,
    "deletable": true,
    "editable": true
   },
   "outputs": [
    {
     "name": "stdout",
     "output_type": "stream",
     "text": [
      "Tests Passed\n"
     ]
    }
   ],
   "source": [
    "def output(x_tensor, num_outputs):\n",
    "    \"\"\"\n",
    "    Apply a output layer to x_tensor using weight and bias\n",
    "    : x_tensor: A 2-D tensor where the first dimension is batch size.\n",
    "    : num_outputs: The number of output that the new tensor should be.\n",
    "    : return: A 2-D tensor where the second dimension is num_outputs.\n",
    "    \"\"\"\n",
    "    # compute affine transformation\n",
    "    input_dim = x_tensor.get_shape().as_list()[-1]\n",
    "    weight = tf.Variable(tf.truncated_normal(shape=[input_dim, num_outputs], stddev=0.01))\n",
    "    bias = tf.Variable(tf.zeros(num_outputs))\n",
    "    affine = tf.matmul(x_tensor, weight) + bias\n",
    "    return affine\n",
    "\n",
    "\n",
    "\"\"\"\n",
    "DON'T MODIFY ANYTHING IN THIS CELL THAT IS BELOW THIS LINE\n",
    "\"\"\"\n",
    "tests.test_output(output)"
   ]
  },
  {
   "cell_type": "markdown",
   "metadata": {
    "deletable": true,
    "editable": true
   },
   "source": [
    "### Create Convolutional Model\n",
    "Implement the function `conv_net` to create a convolutional neural network model. The function takes in a batch of images, `x`, and outputs logits.  Use the layers you created above to create this model:\n",
    "\n",
    "* Apply 1, 2, or 3 Convolution and Max Pool layers\n",
    "* Apply a Flatten Layer\n",
    "* Apply 1, 2, or 3 Fully Connected Layers\n",
    "* Apply an Output Layer\n",
    "* Return the output\n",
    "* Apply [TensorFlow's Dropout](https://www.tensorflow.org/api_docs/python/tf/nn/dropout) to one or more layers in the model using `keep_prob`. "
   ]
  },
  {
   "cell_type": "code",
   "execution_count": 12,
   "metadata": {
    "collapsed": false,
    "deletable": true,
    "editable": true
   },
   "outputs": [
    {
     "name": "stdout",
     "output_type": "stream",
     "text": [
      "Neural Network Built!\n"
     ]
    }
   ],
   "source": [
    "def conv_net(x, keep_prob):\n",
    "    \"\"\"\n",
    "    Create a convolutional neural network model\n",
    "    : x: Placeholder tensor that holds image data.\n",
    "    : keep_prob: Placeholder tensor that hold dropout keep probability.\n",
    "    : return: Tensor that represents logits\n",
    "    \"\"\"\n",
    "    # Apply 1, 2, or 3 Convolution and Max Pool layers\n",
    "    #    Play around with different number of outputs, kernel size and stride\n",
    "    # Function Definition from Above:\n",
    "    #    conv2d_maxpool(x_tensor, conv_num_outputs, conv_ksize, conv_strides, pool_ksize, pool_strides)\n",
    "    layer1 = conv2d_maxpool(x, 32, [3, 3], [1, 1], [2, 2], [2, 2])\n",
    "    layer2 = conv2d_maxpool(layer1, 64, [3, 3], [1, 1], [2, 2], [2, 2])\n",
    "    layer3 = conv2d_maxpool(layer2, 64, [3, 3], [1, 1], [2, 2], [2, 2])\n",
    "    \n",
    "    # Apply a Flatten Layer\n",
    "    # Function Definition from Above:\n",
    "    #   flatten(x_tensor)\n",
    "    flattened = flatten(layer3)\n",
    "    \n",
    "    # Apply 1, 2, or 3 Fully Connected Layers\n",
    "    #    Play around with different number of outputs\n",
    "    # Function Definition from Above:\n",
    "    #   fully_conn(x_tensor, num_outputs)\n",
    "    \n",
    "    fc1 = fully_conn(flattened, 500)\n",
    "    fc1 = tf.nn.dropout(fc1, keep_prob)\n",
    "    \n",
    "    fc2 = fully_conn(fc1, 500)\n",
    "    fc2 = tf.nn.dropout(fc2, keep_prob)\n",
    "    \n",
    "    # Apply an Output Layer\n",
    "    #    Set this to the number of classes\n",
    "    # Function Definition from Above:\n",
    "    #   output(x_tensor, num_outputs)\n",
    "    logits = output(fc2, 10)\n",
    "    \n",
    "    # return output\n",
    "    return logits\n",
    "\n",
    "\n",
    "\"\"\"\n",
    "DON'T MODIFY ANYTHING IN THIS CELL THAT IS BELOW THIS LINE\n",
    "\"\"\"\n",
    "\n",
    "##############################\n",
    "## Build the Neural Network ##\n",
    "##############################\n",
    "\n",
    "# Remove previous weights, bias, inputs, etc..\n",
    "tf.reset_default_graph()\n",
    "\n",
    "# Inputs\n",
    "x = neural_net_image_input((32, 32, 3))\n",
    "y = neural_net_label_input(10)\n",
    "keep_prob = neural_net_keep_prob_input()\n",
    "\n",
    "# Model\n",
    "logits = conv_net(x, keep_prob)\n",
    "\n",
    "# Name logits Tensor, so that is can be loaded from disk after training\n",
    "logits = tf.identity(logits, name='logits')\n",
    "\n",
    "# Loss and Optimizer\n",
    "cost = tf.reduce_mean(tf.nn.softmax_cross_entropy_with_logits(logits=logits, labels=y))\n",
    "optimizer = tf.train.AdamOptimizer().minimize(cost)\n",
    "\n",
    "# Accuracy\n",
    "correct_pred = tf.equal(tf.argmax(logits, 1), tf.argmax(y, 1))\n",
    "accuracy = tf.reduce_mean(tf.cast(correct_pred, tf.float32), name='accuracy')\n",
    "\n",
    "tests.test_conv_net(conv_net)"
   ]
  },
  {
   "cell_type": "markdown",
   "metadata": {
    "deletable": true,
    "editable": true
   },
   "source": [
    "## Train the Neural Network\n",
    "### Single Optimization\n",
    "Implement the function `train_neural_network` to do a single optimization.  The optimization should use `optimizer` to optimize in `session` with a `feed_dict` of the following:\n",
    "* `x` for image input\n",
    "* `y` for labels\n",
    "* `keep_prob` for keep probability for dropout\n",
    "\n",
    "This function will be called for each batch, so `tf.global_variables_initializer()` has already been called.\n",
    "\n",
    "Note: Nothing needs to be returned. This function is only optimizing the neural network."
   ]
  },
  {
   "cell_type": "code",
   "execution_count": 13,
   "metadata": {
    "collapsed": false,
    "deletable": true,
    "editable": true
   },
   "outputs": [
    {
     "name": "stdout",
     "output_type": "stream",
     "text": [
      "Tests Passed\n"
     ]
    }
   ],
   "source": [
    "def train_neural_network(session, optimizer, keep_probability, feature_batch, label_batch):\n",
    "    \"\"\"\n",
    "    Optimize the session on a batch of images and labels\n",
    "    : session: Current TensorFlow session\n",
    "    : optimizer: TensorFlow optimizer function\n",
    "    : keep_probability: keep probability\n",
    "    : feature_batch: Batch of Numpy image data\n",
    "    : label_batch: Batch of Numpy label data\n",
    "    \"\"\"\n",
    "    # TODO: Implement Function\n",
    "    feed_dict = {\n",
    "        x: feature_batch,\n",
    "        y: label_batch,\n",
    "        keep_prob: keep_probability\n",
    "    }\n",
    "    _ = session.run(optimizer, feed_dict=feed_dict)\n",
    "\n",
    "\n",
    "\"\"\"\n",
    "DON'T MODIFY ANYTHING IN THIS CELL THAT IS BELOW THIS LINE\n",
    "\"\"\"\n",
    "tests.test_train_nn(train_neural_network)"
   ]
  },
  {
   "cell_type": "markdown",
   "metadata": {
    "deletable": true,
    "editable": true
   },
   "source": [
    "### Show Stats\n",
    "Implement the function `print_stats` to print loss and validation accuracy.  Use the global variables `valid_features` and `valid_labels` to calculate validation accuracy.  Use a keep probability of `1.0` to calculate the loss and validation accuracy."
   ]
  },
  {
   "cell_type": "code",
   "execution_count": 14,
   "metadata": {
    "collapsed": true,
    "deletable": true,
    "editable": true
   },
   "outputs": [],
   "source": [
    "def print_stats(session, feature_batch, label_batch, cost, accuracy):\n",
    "    \"\"\"\n",
    "    Print information about loss and validation accuracy\n",
    "    : session: Current TensorFlow session\n",
    "    : feature_batch: Batch of Numpy image data\n",
    "    : label_batch: Batch of Numpy label data\n",
    "    : cost: TensorFlow cost function\n",
    "    : accuracy: TensorFlow accuracy function\n",
    "    \"\"\"\n",
    "    # Implement Function\n",
    "    feed_dict = {\n",
    "        x: feature_batch,\n",
    "        y: label_batch,\n",
    "        keep_prob: 1.0\n",
    "    }\n",
    "    train_loss, train_acc = session.run([cost, accuracy], feed_dict=feed_dict)\n",
    "    \n",
    "    valid_feed_dict = {\n",
    "        x: valid_features,\n",
    "        y: valid_labels,\n",
    "        keep_prob: 1.0\n",
    "    }\n",
    "    valid_loss, valid_acc = session.run([cost, accuracy], feed_dict=valid_feed_dict)\n",
    "    \n",
    "    print('Train Cost: {}, Train Accuracy: {}, Valid Cost: {}, Valid Accuracy: {}'\n",
    "          .format(train_loss, train_acc, valid_loss, valid_acc))"
   ]
  },
  {
   "cell_type": "markdown",
   "metadata": {
    "deletable": true,
    "editable": true
   },
   "source": [
    "### Hyperparameters\n",
    "Tune the following parameters:\n",
    "* Set `epochs` to the number of iterations until the network stops learning or start overfitting\n",
    "* Set `batch_size` to the highest number that your machine has memory for.  Most people set them to common sizes of memory:\n",
    " * 64\n",
    " * 128\n",
    " * 256\n",
    " * ...\n",
    "* Set `keep_probability` to the probability of keeping a node using dropout"
   ]
  },
  {
   "cell_type": "code",
   "execution_count": 15,
   "metadata": {
    "collapsed": true,
    "deletable": true,
    "editable": true
   },
   "outputs": [],
   "source": [
    "## TODO: Tune Parameters\n",
    "epochs = 30\n",
    "batch_size = 128\n",
    "keep_probability = 0.8"
   ]
  },
  {
   "cell_type": "markdown",
   "metadata": {
    "deletable": true,
    "editable": true
   },
   "source": [
    "### Train on a Single CIFAR-10 Batch\n",
    "Instead of training the neural network on all the CIFAR-10 batches of data, let's use a single batch. This should save time while you iterate on the model to get a better accuracy.  Once the final validation accuracy is 50% or greater, run the model on all the data in the next section."
   ]
  },
  {
   "cell_type": "code",
   "execution_count": 16,
   "metadata": {
    "collapsed": false,
    "deletable": true,
    "editable": true
   },
   "outputs": [
    {
     "name": "stdout",
     "output_type": "stream",
     "text": [
      "Checking the Training on a Single Batch...\n",
      "Epoch  1, CIFAR-10 Batch 1:  Train Cost: 2.0289478302001953, Train Accuracy: 0.22499999403953552, Valid Cost: 1.8493841886520386, Valid Accuracy: 0.30639997124671936\n",
      "Epoch  2, CIFAR-10 Batch 1:  Train Cost: 1.8903297185897827, Train Accuracy: 0.32499998807907104, Valid Cost: 1.7672322988510132, Valid Accuracy: 0.34039998054504395\n",
      "Epoch  3, CIFAR-10 Batch 1:  Train Cost: 1.85280442237854, Train Accuracy: 0.4000000059604645, Valid Cost: 1.707745909690857, Valid Accuracy: 0.35420000553131104\n",
      "Epoch  4, CIFAR-10 Batch 1:  Train Cost: 1.6979936361312866, Train Accuracy: 0.3999999761581421, Valid Cost: 1.6548871994018555, Valid Accuracy: 0.3919999599456787\n",
      "Epoch  5, CIFAR-10 Batch 1:  Train Cost: 1.5167057514190674, Train Accuracy: 0.4749999940395355, Valid Cost: 1.5673247575759888, Valid Accuracy: 0.43759995698928833\n",
      "Epoch  6, CIFAR-10 Batch 1:  Train Cost: 1.4632830619812012, Train Accuracy: 0.550000011920929, Valid Cost: 1.5717225074768066, Valid Accuracy: 0.43279996514320374\n",
      "Epoch  7, CIFAR-10 Batch 1:  Train Cost: 1.4158458709716797, Train Accuracy: 0.550000011920929, Valid Cost: 1.5515062808990479, Valid Accuracy: 0.4381999671459198\n",
      "Epoch  8, CIFAR-10 Batch 1:  Train Cost: 1.3233013153076172, Train Accuracy: 0.5750000476837158, Valid Cost: 1.5057579278945923, Valid Accuracy: 0.4501999616622925\n",
      "Epoch  9, CIFAR-10 Batch 1:  Train Cost: 1.3033206462860107, Train Accuracy: 0.5750000476837158, Valid Cost: 1.5039706230163574, Valid Accuracy: 0.4603999853134155\n",
      "Epoch 10, CIFAR-10 Batch 1:  Train Cost: 1.1664643287658691, Train Accuracy: 0.6500000357627869, Valid Cost: 1.5185506343841553, Valid Accuracy: 0.44099998474121094\n",
      "Epoch 11, CIFAR-10 Batch 1:  Train Cost: 1.0563760995864868, Train Accuracy: 0.6750000715255737, Valid Cost: 1.4488656520843506, Valid Accuracy: 0.4779999852180481\n",
      "Epoch 12, CIFAR-10 Batch 1:  Train Cost: 1.1034502983093262, Train Accuracy: 0.625, Valid Cost: 1.4781837463378906, Valid Accuracy: 0.47179993987083435\n",
      "Epoch 13, CIFAR-10 Batch 1:  Train Cost: 1.0480687618255615, Train Accuracy: 0.6750000715255737, Valid Cost: 1.4577486515045166, Valid Accuracy: 0.4833999574184418\n",
      "Epoch 14, CIFAR-10 Batch 1:  Train Cost: 0.9803569316864014, Train Accuracy: 0.6500000357627869, Valid Cost: 1.4595942497253418, Valid Accuracy: 0.4777999520301819\n",
      "Epoch 15, CIFAR-10 Batch 1:  Train Cost: 0.955185055732727, Train Accuracy: 0.7000000476837158, Valid Cost: 1.431083083152771, Valid Accuracy: 0.4927999675273895\n",
      "Epoch 16, CIFAR-10 Batch 1:  Train Cost: 0.8978811502456665, Train Accuracy: 0.7250000238418579, Valid Cost: 1.423340082168579, Valid Accuracy: 0.49539998173713684\n",
      "Epoch 17, CIFAR-10 Batch 1:  Train Cost: 0.854120135307312, Train Accuracy: 0.7749999761581421, Valid Cost: 1.4476484060287476, Valid Accuracy: 0.4917999804019928\n",
      "Epoch 18, CIFAR-10 Batch 1:  Train Cost: 0.8577998876571655, Train Accuracy: 0.6499999761581421, Valid Cost: 1.4210458993911743, Valid Accuracy: 0.494799941778183\n",
      "Epoch 19, CIFAR-10 Batch 1:  Train Cost: 0.7897726893424988, Train Accuracy: 0.75, Valid Cost: 1.4466214179992676, Valid Accuracy: 0.5007999539375305\n",
      "Epoch 20, CIFAR-10 Batch 1:  Train Cost: 0.7264235019683838, Train Accuracy: 0.75, Valid Cost: 1.4780988693237305, Valid Accuracy: 0.48639991879463196\n",
      "Epoch 21, CIFAR-10 Batch 1:  Train Cost: 0.6749756336212158, Train Accuracy: 0.7749999761581421, Valid Cost: 1.4442113637924194, Valid Accuracy: 0.5023999810218811\n",
      "Epoch 22, CIFAR-10 Batch 1:  Train Cost: 0.6487561464309692, Train Accuracy: 0.7749999761581421, Valid Cost: 1.4475098848342896, Valid Accuracy: 0.506399929523468\n",
      "Epoch 23, CIFAR-10 Batch 1:  Train Cost: 0.6645278930664062, Train Accuracy: 0.7999999523162842, Valid Cost: 1.4157460927963257, Valid Accuracy: 0.509399950504303\n",
      "Epoch 24, CIFAR-10 Batch 1:  Train Cost: 0.6369484663009644, Train Accuracy: 0.824999988079071, Valid Cost: 1.5213598012924194, Valid Accuracy: 0.47559991478919983\n",
      "Epoch 25, CIFAR-10 Batch 1:  Train Cost: 0.6908990144729614, Train Accuracy: 0.8500000238418579, Valid Cost: 1.4549750089645386, Valid Accuracy: 0.5007999539375305\n",
      "Epoch 26, CIFAR-10 Batch 1:  Train Cost: 0.6030255556106567, Train Accuracy: 0.7749999761581421, Valid Cost: 1.4701433181762695, Valid Accuracy: 0.5047999620437622\n",
      "Epoch 27, CIFAR-10 Batch 1:  Train Cost: 0.5482921600341797, Train Accuracy: 0.7999999523162842, Valid Cost: 1.494275450706482, Valid Accuracy: 0.5051999092102051\n",
      "Epoch 28, CIFAR-10 Batch 1:  Train Cost: 0.6295585632324219, Train Accuracy: 0.8250000476837158, Valid Cost: 1.5663127899169922, Valid Accuracy: 0.4833999574184418\n",
      "Epoch 29, CIFAR-10 Batch 1:  Train Cost: 0.6148226857185364, Train Accuracy: 0.824999988079071, Valid Cost: 1.6032203435897827, Valid Accuracy: 0.4861999750137329\n",
      "Epoch 30, CIFAR-10 Batch 1:  Train Cost: 0.5796975493431091, Train Accuracy: 0.800000011920929, Valid Cost: 1.5501576662063599, Valid Accuracy: 0.4907999634742737\n"
     ]
    }
   ],
   "source": [
    "\"\"\"\n",
    "DON'T MODIFY ANYTHING IN THIS CELL\n",
    "\"\"\"\n",
    "print('Checking the Training on a Single Batch...')\n",
    "with tf.Session() as sess:\n",
    "    # Initializing the variables\n",
    "    sess.run(tf.global_variables_initializer())\n",
    "    \n",
    "    # Training cycle\n",
    "    for epoch in range(epochs):\n",
    "        batch_i = 1\n",
    "        for batch_features, batch_labels in helper.load_preprocess_training_batch(batch_i, batch_size):\n",
    "            train_neural_network(sess, optimizer, keep_probability, batch_features, batch_labels)\n",
    "        print('Epoch {:>2}, CIFAR-10 Batch {}:  '.format(epoch + 1, batch_i), end='')\n",
    "        print_stats(sess, batch_features, batch_labels, cost, accuracy)"
   ]
  },
  {
   "cell_type": "markdown",
   "metadata": {
    "deletable": true,
    "editable": true
   },
   "source": [
    "### Fully Train the Model\n",
    "Now that you got a good accuracy with a single CIFAR-10 batch, try it with all five batches."
   ]
  },
  {
   "cell_type": "code",
   "execution_count": 17,
   "metadata": {
    "collapsed": false,
    "deletable": true,
    "editable": true
   },
   "outputs": [
    {
     "name": "stdout",
     "output_type": "stream",
     "text": [
      "Training...\n",
      "Epoch  1, CIFAR-10 Batch 1:  Train Cost: 2.091130018234253, Train Accuracy: 0.22499999403953552, Valid Cost: 1.9322818517684937, Valid Accuracy: 0.26100000739097595\n",
      "Epoch  1, CIFAR-10 Batch 2:  Train Cost: 1.8669272661209106, Train Accuracy: 0.30000001192092896, Valid Cost: 1.8479413986206055, Valid Accuracy: 0.26579999923706055\n",
      "Epoch  1, CIFAR-10 Batch 3:  Train Cost: 1.7265737056732178, Train Accuracy: 0.3499999940395355, Valid Cost: 1.783708095550537, Valid Accuracy: 0.32359999418258667\n",
      "Epoch  1, CIFAR-10 Batch 4:  Train Cost: 1.6243959665298462, Train Accuracy: 0.3499999940395355, Valid Cost: 1.755235195159912, Valid Accuracy: 0.3367999792098999\n",
      "Epoch  1, CIFAR-10 Batch 5:  Train Cost: 1.6773580312728882, Train Accuracy: 0.4000000059604645, Valid Cost: 1.6339086294174194, Valid Accuracy: 0.3667999804019928\n",
      "Epoch  2, CIFAR-10 Batch 1:  Train Cost: 1.7673616409301758, Train Accuracy: 0.3500000238418579, Valid Cost: 1.722926378250122, Valid Accuracy: 0.3431999683380127\n",
      "Epoch  2, CIFAR-10 Batch 2:  Train Cost: 1.7238121032714844, Train Accuracy: 0.42500001192092896, Valid Cost: 1.6228480339050293, Valid Accuracy: 0.38839998841285706\n",
      "Epoch  2, CIFAR-10 Batch 3:  Train Cost: 1.5014429092407227, Train Accuracy: 0.42500001192092896, Valid Cost: 1.60797119140625, Valid Accuracy: 0.3991999924182892\n",
      "Epoch  2, CIFAR-10 Batch 4:  Train Cost: 1.5930002927780151, Train Accuracy: 0.3499999940395355, Valid Cost: 1.6076163053512573, Valid Accuracy: 0.39980000257492065\n",
      "Epoch  2, CIFAR-10 Batch 5:  Train Cost: 1.7507152557373047, Train Accuracy: 0.375, Valid Cost: 1.6409657001495361, Valid Accuracy: 0.39619994163513184\n",
      "Epoch  3, CIFAR-10 Batch 1:  Train Cost: 1.6226977109909058, Train Accuracy: 0.3750000298023224, Valid Cost: 1.5540250539779663, Valid Accuracy: 0.41839995980262756\n",
      "Epoch  3, CIFAR-10 Batch 2:  Train Cost: 1.694627046585083, Train Accuracy: 0.40000003576278687, Valid Cost: 1.6047695875167847, Valid Accuracy: 0.3957999646663666\n",
      "Epoch  3, CIFAR-10 Batch 3:  Train Cost: 1.4643125534057617, Train Accuracy: 0.42500001192092896, Valid Cost: 1.6250972747802734, Valid Accuracy: 0.37619999051094055\n",
      "Epoch  3, CIFAR-10 Batch 4:  Train Cost: 1.4674899578094482, Train Accuracy: 0.40000003576278687, Valid Cost: 1.536535620689392, Valid Accuracy: 0.41439998149871826\n",
      "Epoch  3, CIFAR-10 Batch 5:  Train Cost: 1.6324349641799927, Train Accuracy: 0.44999998807907104, Valid Cost: 1.5308709144592285, Valid Accuracy: 0.4283999800682068\n",
      "Epoch  4, CIFAR-10 Batch 1:  Train Cost: 1.6218459606170654, Train Accuracy: 0.44999998807907104, Valid Cost: 1.4995722770690918, Valid Accuracy: 0.4431999623775482\n",
      "Epoch  4, CIFAR-10 Batch 2:  Train Cost: 1.5602693557739258, Train Accuracy: 0.4750000238418579, Valid Cost: 1.5540939569473267, Valid Accuracy: 0.43320000171661377\n",
      "Epoch  4, CIFAR-10 Batch 3:  Train Cost: 1.432715892791748, Train Accuracy: 0.42500001192092896, Valid Cost: 1.5176619291305542, Valid Accuracy: 0.4309999644756317\n",
      "Epoch  4, CIFAR-10 Batch 4:  Train Cost: 1.4133037328720093, Train Accuracy: 0.45000001788139343, Valid Cost: 1.4501569271087646, Valid Accuracy: 0.4655999541282654\n",
      "Epoch  4, CIFAR-10 Batch 5:  Train Cost: 1.5072731971740723, Train Accuracy: 0.4749999940395355, Valid Cost: 1.4905273914337158, Valid Accuracy: 0.430400013923645\n",
      "Epoch  5, CIFAR-10 Batch 1:  Train Cost: 1.425861120223999, Train Accuracy: 0.44999998807907104, Valid Cost: 1.443758487701416, Valid Accuracy: 0.4707999527454376\n",
      "Epoch  5, CIFAR-10 Batch 2:  Train Cost: 1.4849224090576172, Train Accuracy: 0.5, Valid Cost: 1.520075798034668, Valid Accuracy: 0.43939992785453796\n",
      "Epoch  5, CIFAR-10 Batch 3:  Train Cost: 1.2899916172027588, Train Accuracy: 0.44999998807907104, Valid Cost: 1.4749319553375244, Valid Accuracy: 0.4495999813079834\n",
      "Epoch  5, CIFAR-10 Batch 4:  Train Cost: 1.4028738737106323, Train Accuracy: 0.5, Valid Cost: 1.4356486797332764, Valid Accuracy: 0.45899996161460876\n",
      "Epoch  5, CIFAR-10 Batch 5:  Train Cost: 1.4580135345458984, Train Accuracy: 0.5249999761581421, Valid Cost: 1.4033658504486084, Valid Accuracy: 0.4901999831199646\n",
      "Epoch  6, CIFAR-10 Batch 1:  Train Cost: 1.245639443397522, Train Accuracy: 0.550000011920929, Valid Cost: 1.4246604442596436, Valid Accuracy: 0.4721999764442444\n",
      "Epoch  6, CIFAR-10 Batch 2:  Train Cost: 1.2988845109939575, Train Accuracy: 0.550000011920929, Valid Cost: 1.4833283424377441, Valid Accuracy: 0.45819994807243347\n",
      "Epoch  6, CIFAR-10 Batch 3:  Train Cost: 1.233544111251831, Train Accuracy: 0.550000011920929, Valid Cost: 1.451329231262207, Valid Accuracy: 0.4631999433040619\n",
      "Epoch  6, CIFAR-10 Batch 4:  Train Cost: 1.2172775268554688, Train Accuracy: 0.45000001788139343, Valid Cost: 1.4162728786468506, Valid Accuracy: 0.48099997639656067\n",
      "Epoch  6, CIFAR-10 Batch 5:  Train Cost: 1.4247956275939941, Train Accuracy: 0.4750000238418579, Valid Cost: 1.3980201482772827, Valid Accuracy: 0.4715999960899353\n",
      "Epoch  7, CIFAR-10 Batch 1:  Train Cost: 1.1921777725219727, Train Accuracy: 0.5250000357627869, Valid Cost: 1.399218201637268, Valid Accuracy: 0.5025999546051025\n",
      "Epoch  7, CIFAR-10 Batch 2:  Train Cost: 1.1555540561676025, Train Accuracy: 0.5750000476837158, Valid Cost: 1.3749876022338867, Valid Accuracy: 0.5069999694824219\n",
      "Epoch  7, CIFAR-10 Batch 3:  Train Cost: 1.1607277393341064, Train Accuracy: 0.5250000357627869, Valid Cost: 1.3640484809875488, Valid Accuracy: 0.49459993839263916\n",
      "Epoch  7, CIFAR-10 Batch 4:  Train Cost: 1.2294166088104248, Train Accuracy: 0.625, Valid Cost: 1.3639812469482422, Valid Accuracy: 0.51419997215271\n",
      "Epoch  7, CIFAR-10 Batch 5:  Train Cost: 1.3633019924163818, Train Accuracy: 0.550000011920929, Valid Cost: 1.3640472888946533, Valid Accuracy: 0.5117999315261841\n",
      "Epoch  8, CIFAR-10 Batch 1:  Train Cost: 1.1282007694244385, Train Accuracy: 0.574999988079071, Valid Cost: 1.2957463264465332, Valid Accuracy: 0.549799919128418\n",
      "Epoch  8, CIFAR-10 Batch 2:  Train Cost: 1.0494251251220703, Train Accuracy: 0.6499999761581421, Valid Cost: 1.325700283050537, Valid Accuracy: 0.5351999402046204\n",
      "Epoch  8, CIFAR-10 Batch 3:  Train Cost: 1.1397621631622314, Train Accuracy: 0.5, Valid Cost: 1.3188215494155884, Valid Accuracy: 0.5329999327659607\n",
      "Epoch  8, CIFAR-10 Batch 4:  Train Cost: 1.132852554321289, Train Accuracy: 0.6000000238418579, Valid Cost: 1.3057657480239868, Valid Accuracy: 0.5463998913764954\n",
      "Epoch  8, CIFAR-10 Batch 5:  Train Cost: 1.353409767150879, Train Accuracy: 0.625, Valid Cost: 1.3460657596588135, Valid Accuracy: 0.528999924659729\n",
      "Epoch  9, CIFAR-10 Batch 1:  Train Cost: 1.02286696434021, Train Accuracy: 0.6499999761581421, Valid Cost: 1.3004052639007568, Valid Accuracy: 0.5437999367713928\n",
      "Epoch  9, CIFAR-10 Batch 2:  Train Cost: 1.037028431892395, Train Accuracy: 0.6499999761581421, Valid Cost: 1.2815927267074585, Valid Accuracy: 0.5507999062538147\n",
      "Epoch  9, CIFAR-10 Batch 3:  Train Cost: 1.0260534286499023, Train Accuracy: 0.6500000357627869, Valid Cost: 1.2279129028320312, Valid Accuracy: 0.5643999576568604\n",
      "Epoch  9, CIFAR-10 Batch 4:  Train Cost: 1.0723289251327515, Train Accuracy: 0.550000011920929, Valid Cost: 1.2506933212280273, Valid Accuracy: 0.5489999651908875\n",
      "Epoch  9, CIFAR-10 Batch 5:  Train Cost: 1.2652699947357178, Train Accuracy: 0.550000011920929, Valid Cost: 1.2967910766601562, Valid Accuracy: 0.5421999096870422\n",
      "Epoch 10, CIFAR-10 Batch 1:  Train Cost: 1.0532176494598389, Train Accuracy: 0.625, Valid Cost: 1.2417149543762207, Valid Accuracy: 0.5615999102592468\n",
      "Epoch 10, CIFAR-10 Batch 2:  Train Cost: 1.0460219383239746, Train Accuracy: 0.6000000238418579, Valid Cost: 1.2372171878814697, Valid Accuracy: 0.571199893951416\n",
      "Epoch 10, CIFAR-10 Batch 3:  Train Cost: 1.1129391193389893, Train Accuracy: 0.5999999642372131, Valid Cost: 1.2722160816192627, Valid Accuracy: 0.5557999014854431\n",
      "Epoch 10, CIFAR-10 Batch 4:  Train Cost: 0.9914699196815491, Train Accuracy: 0.550000011920929, Valid Cost: 1.2521592378616333, Valid Accuracy: 0.5523999333381653\n",
      "Epoch 10, CIFAR-10 Batch 5:  Train Cost: 1.217913269996643, Train Accuracy: 0.4750000238418579, Valid Cost: 1.2792727947235107, Valid Accuracy: 0.5471999645233154\n",
      "Epoch 11, CIFAR-10 Batch 1:  Train Cost: 1.0540578365325928, Train Accuracy: 0.6749999523162842, Valid Cost: 1.2390334606170654, Valid Accuracy: 0.5709999203681946\n",
      "Epoch 11, CIFAR-10 Batch 2:  Train Cost: 0.941307544708252, Train Accuracy: 0.7250000238418579, Valid Cost: 1.2218549251556396, Valid Accuracy: 0.5745999813079834\n",
      "Epoch 11, CIFAR-10 Batch 3:  Train Cost: 0.9475504755973816, Train Accuracy: 0.6750000715255737, Valid Cost: 1.232926607131958, Valid Accuracy: 0.5641999840736389\n",
      "Epoch 11, CIFAR-10 Batch 4:  Train Cost: 1.0511581897735596, Train Accuracy: 0.574999988079071, Valid Cost: 1.2163411378860474, Valid Accuracy: 0.5667998790740967\n",
      "Epoch 11, CIFAR-10 Batch 5:  Train Cost: 1.1201376914978027, Train Accuracy: 0.6750000715255737, Valid Cost: 1.2429510354995728, Valid Accuracy: 0.5677999258041382\n",
      "Epoch 12, CIFAR-10 Batch 1:  Train Cost: 1.0220099687576294, Train Accuracy: 0.5750000476837158, Valid Cost: 1.2045867443084717, Valid Accuracy: 0.5745999217033386\n",
      "Epoch 12, CIFAR-10 Batch 2:  Train Cost: 0.8910463452339172, Train Accuracy: 0.699999988079071, Valid Cost: 1.2408010959625244, Valid Accuracy: 0.5675999522209167\n",
      "Epoch 12, CIFAR-10 Batch 3:  Train Cost: 0.9235212802886963, Train Accuracy: 0.625, Valid Cost: 1.213433027267456, Valid Accuracy: 0.5771999359130859\n",
      "Epoch 12, CIFAR-10 Batch 4:  Train Cost: 0.9939097166061401, Train Accuracy: 0.675000011920929, Valid Cost: 1.2073396444320679, Valid Accuracy: 0.5841999053955078\n",
      "Epoch 12, CIFAR-10 Batch 5:  Train Cost: 1.0743169784545898, Train Accuracy: 0.6500000357627869, Valid Cost: 1.21772038936615, Valid Accuracy: 0.5781999230384827\n",
      "Epoch 13, CIFAR-10 Batch 1:  Train Cost: 0.9414689540863037, Train Accuracy: 0.6750000715255737, Valid Cost: 1.2073053121566772, Valid Accuracy: 0.5855998992919922\n",
      "Epoch 13, CIFAR-10 Batch 2:  Train Cost: 0.8774433732032776, Train Accuracy: 0.625, Valid Cost: 1.2023208141326904, Valid Accuracy: 0.5877999067306519\n",
      "Epoch 13, CIFAR-10 Batch 3:  Train Cost: 0.8880922794342041, Train Accuracy: 0.7250000238418579, Valid Cost: 1.1967331171035767, Valid Accuracy: 0.5803998708724976\n",
      "Epoch 13, CIFAR-10 Batch 4:  Train Cost: 1.007220983505249, Train Accuracy: 0.6499999761581421, Valid Cost: 1.2237234115600586, Valid Accuracy: 0.5779999494552612\n",
      "Epoch 13, CIFAR-10 Batch 5:  Train Cost: 1.002198338508606, Train Accuracy: 0.7250000238418579, Valid Cost: 1.213724136352539, Valid Accuracy: 0.5821999311447144\n",
      "Epoch 14, CIFAR-10 Batch 1:  Train Cost: 0.880580484867096, Train Accuracy: 0.675000011920929, Valid Cost: 1.1986875534057617, Valid Accuracy: 0.5803998708724976\n",
      "Epoch 14, CIFAR-10 Batch 2:  Train Cost: 0.8356090188026428, Train Accuracy: 0.675000011920929, Valid Cost: 1.1824506521224976, Valid Accuracy: 0.6009999513626099\n",
      "Epoch 14, CIFAR-10 Batch 3:  Train Cost: 0.8638540506362915, Train Accuracy: 0.75, Valid Cost: 1.1822030544281006, Valid Accuracy: 0.5885999202728271\n",
      "Epoch 14, CIFAR-10 Batch 4:  Train Cost: 0.9929150342941284, Train Accuracy: 0.675000011920929, Valid Cost: 1.249281406402588, Valid Accuracy: 0.5791999697685242\n",
      "Epoch 14, CIFAR-10 Batch 5:  Train Cost: 0.9996111392974854, Train Accuracy: 0.6500000357627869, Valid Cost: 1.2161095142364502, Valid Accuracy: 0.5785999298095703\n",
      "Epoch 15, CIFAR-10 Batch 1:  Train Cost: 0.8502820134162903, Train Accuracy: 0.7500000596046448, Valid Cost: 1.2140040397644043, Valid Accuracy: 0.5769999027252197\n",
      "Epoch 15, CIFAR-10 Batch 2:  Train Cost: 0.7942588925361633, Train Accuracy: 0.824999988079071, Valid Cost: 1.2019848823547363, Valid Accuracy: 0.5901999473571777\n",
      "Epoch 15, CIFAR-10 Batch 3:  Train Cost: 0.8394664525985718, Train Accuracy: 0.8000000715255737, Valid Cost: 1.1908414363861084, Valid Accuracy: 0.5887999534606934\n",
      "Epoch 15, CIFAR-10 Batch 4:  Train Cost: 0.8837708830833435, Train Accuracy: 0.5999999642372131, Valid Cost: 1.1959985494613647, Valid Accuracy: 0.5809999704360962\n",
      "Epoch 15, CIFAR-10 Batch 5:  Train Cost: 0.9526252150535583, Train Accuracy: 0.7000000476837158, Valid Cost: 1.1781952381134033, Valid Accuracy: 0.5891999006271362\n",
      "Epoch 16, CIFAR-10 Batch 1:  Train Cost: 0.7890262603759766, Train Accuracy: 0.7000000476837158, Valid Cost: 1.1811892986297607, Valid Accuracy: 0.598599910736084\n",
      "Epoch 16, CIFAR-10 Batch 2:  Train Cost: 0.8177906274795532, Train Accuracy: 0.7250000238418579, Valid Cost: 1.1689399480819702, Valid Accuracy: 0.6089999675750732\n",
      "Epoch 16, CIFAR-10 Batch 3:  Train Cost: 0.760334849357605, Train Accuracy: 0.7750000953674316, Valid Cost: 1.1776753664016724, Valid Accuracy: 0.5953999161720276\n",
      "Epoch 16, CIFAR-10 Batch 4:  Train Cost: 0.824967622756958, Train Accuracy: 0.7250000238418579, Valid Cost: 1.1639904975891113, Valid Accuracy: 0.6011999249458313\n",
      "Epoch 16, CIFAR-10 Batch 5:  Train Cost: 0.9470196962356567, Train Accuracy: 0.6500000357627869, Valid Cost: 1.1779963970184326, Valid Accuracy: 0.590399980545044\n",
      "Epoch 17, CIFAR-10 Batch 1:  Train Cost: 0.7695612907409668, Train Accuracy: 0.75, Valid Cost: 1.171957015991211, Valid Accuracy: 0.6031999588012695\n",
      "Epoch 17, CIFAR-10 Batch 2:  Train Cost: 0.8211196064949036, Train Accuracy: 0.699999988079071, Valid Cost: 1.16331148147583, Valid Accuracy: 0.6071999073028564\n",
      "Epoch 17, CIFAR-10 Batch 3:  Train Cost: 0.6390448212623596, Train Accuracy: 0.925000011920929, Valid Cost: 1.152098536491394, Valid Accuracy: 0.6078000068664551\n",
      "Epoch 17, CIFAR-10 Batch 4:  Train Cost: 0.8011597394943237, Train Accuracy: 0.75, Valid Cost: 1.1620856523513794, Valid Accuracy: 0.6079999208450317\n",
      "Epoch 17, CIFAR-10 Batch 5:  Train Cost: 0.8834855556488037, Train Accuracy: 0.800000011920929, Valid Cost: 1.158227562904358, Valid Accuracy: 0.6007999181747437\n",
      "Epoch 18, CIFAR-10 Batch 1:  Train Cost: 0.7281156778335571, Train Accuracy: 0.7750000357627869, Valid Cost: 1.1824543476104736, Valid Accuracy: 0.5957999229431152\n",
      "Epoch 18, CIFAR-10 Batch 2:  Train Cost: 0.6857946515083313, Train Accuracy: 0.800000011920929, Valid Cost: 1.1466668844223022, Valid Accuracy: 0.6103998422622681\n",
      "Epoch 18, CIFAR-10 Batch 3:  Train Cost: 0.6072888374328613, Train Accuracy: 0.925000011920929, Valid Cost: 1.124163269996643, Valid Accuracy: 0.6171998381614685\n",
      "Epoch 18, CIFAR-10 Batch 4:  Train Cost: 0.7675477266311646, Train Accuracy: 0.6749999523162842, Valid Cost: 1.1683175563812256, Valid Accuracy: 0.6005998849868774\n",
      "Epoch 18, CIFAR-10 Batch 5:  Train Cost: 0.8793540596961975, Train Accuracy: 0.7250000238418579, Valid Cost: 1.176666021347046, Valid Accuracy: 0.5909999012947083\n",
      "Epoch 19, CIFAR-10 Batch 1:  Train Cost: 0.7941873073577881, Train Accuracy: 0.699999988079071, Valid Cost: 1.159485936164856, Valid Accuracy: 0.5971999168395996\n",
      "Epoch 19, CIFAR-10 Batch 2:  Train Cost: 0.6719637513160706, Train Accuracy: 0.75, Valid Cost: 1.1794095039367676, Valid Accuracy: 0.609799861907959\n",
      "Epoch 19, CIFAR-10 Batch 3:  Train Cost: 0.6137959957122803, Train Accuracy: 0.8750000596046448, Valid Cost: 1.1262239217758179, Valid Accuracy: 0.6111999154090881\n",
      "Epoch 19, CIFAR-10 Batch 4:  Train Cost: 0.6629296541213989, Train Accuracy: 0.7999999523162842, Valid Cost: 1.1527153253555298, Valid Accuracy: 0.6155998706817627\n",
      "Epoch 19, CIFAR-10 Batch 5:  Train Cost: 0.883307158946991, Train Accuracy: 0.7500000596046448, Valid Cost: 1.1541366577148438, Valid Accuracy: 0.5991999506950378\n",
      "Epoch 20, CIFAR-10 Batch 1:  Train Cost: 0.7457032799720764, Train Accuracy: 0.7500000596046448, Valid Cost: 1.1603299379348755, Valid Accuracy: 0.6029999256134033\n",
      "Epoch 20, CIFAR-10 Batch 2:  Train Cost: 0.6439182758331299, Train Accuracy: 0.8750000596046448, Valid Cost: 1.158857822418213, Valid Accuracy: 0.6047998666763306\n",
      "Epoch 20, CIFAR-10 Batch 3:  Train Cost: 0.6414408683776855, Train Accuracy: 0.875, Valid Cost: 1.149459958076477, Valid Accuracy: 0.6029999256134033\n",
      "Epoch 20, CIFAR-10 Batch 4:  Train Cost: 0.7638306617736816, Train Accuracy: 0.7749999761581421, Valid Cost: 1.1853070259094238, Valid Accuracy: 0.5967998504638672\n",
      "Epoch 20, CIFAR-10 Batch 5:  Train Cost: 0.8139524459838867, Train Accuracy: 0.8000000715255737, Valid Cost: 1.1559070348739624, Valid Accuracy: 0.5965998768806458\n",
      "Epoch 21, CIFAR-10 Batch 1:  Train Cost: 0.6876295208930969, Train Accuracy: 0.800000011920929, Valid Cost: 1.1458104848861694, Valid Accuracy: 0.6027999520301819\n",
      "Epoch 21, CIFAR-10 Batch 2:  Train Cost: 0.6512664556503296, Train Accuracy: 0.7750000357627869, Valid Cost: 1.134324073791504, Valid Accuracy: 0.6119999289512634\n",
      "Epoch 21, CIFAR-10 Batch 3:  Train Cost: 0.6968877911567688, Train Accuracy: 0.8250000476837158, Valid Cost: 1.1657030582427979, Valid Accuracy: 0.5891999006271362\n",
      "Epoch 21, CIFAR-10 Batch 4:  Train Cost: 0.6727615594863892, Train Accuracy: 0.800000011920929, Valid Cost: 1.172920823097229, Valid Accuracy: 0.6055999398231506\n",
      "Epoch 21, CIFAR-10 Batch 5:  Train Cost: 0.7450315952301025, Train Accuracy: 0.7250000238418579, Valid Cost: 1.1283761262893677, Valid Accuracy: 0.6155998706817627\n",
      "Epoch 22, CIFAR-10 Batch 1:  Train Cost: 0.6981332302093506, Train Accuracy: 0.7749999761581421, Valid Cost: 1.1395412683486938, Valid Accuracy: 0.6091998815536499\n",
      "Epoch 22, CIFAR-10 Batch 2:  Train Cost: 0.5954926609992981, Train Accuracy: 0.800000011920929, Valid Cost: 1.1446858644485474, Valid Accuracy: 0.6159998774528503\n",
      "Epoch 22, CIFAR-10 Batch 3:  Train Cost: 0.5775429010391235, Train Accuracy: 0.8999999761581421, Valid Cost: 1.140904188156128, Valid Accuracy: 0.6055999398231506\n",
      "Epoch 22, CIFAR-10 Batch 4:  Train Cost: 0.7249513864517212, Train Accuracy: 0.7250000238418579, Valid Cost: 1.1991654634475708, Valid Accuracy: 0.5899999141693115\n",
      "Epoch 22, CIFAR-10 Batch 5:  Train Cost: 0.7961874604225159, Train Accuracy: 0.7750000357627869, Valid Cost: 1.127927303314209, Valid Accuracy: 0.609799861907959\n",
      "Epoch 23, CIFAR-10 Batch 1:  Train Cost: 0.676613986492157, Train Accuracy: 0.800000011920929, Valid Cost: 1.1370404958724976, Valid Accuracy: 0.6071999073028564\n",
      "Epoch 23, CIFAR-10 Batch 2:  Train Cost: 0.5461423397064209, Train Accuracy: 0.8500000238418579, Valid Cost: 1.1451225280761719, Valid Accuracy: 0.6179999113082886\n",
      "Epoch 23, CIFAR-10 Batch 3:  Train Cost: 0.617622971534729, Train Accuracy: 0.875, Valid Cost: 1.1500853300094604, Valid Accuracy: 0.6109999418258667\n",
      "Epoch 23, CIFAR-10 Batch 4:  Train Cost: 0.6973016262054443, Train Accuracy: 0.7749999761581421, Valid Cost: 1.2426002025604248, Valid Accuracy: 0.5807998776435852\n",
      "Epoch 23, CIFAR-10 Batch 5:  Train Cost: 0.7413690090179443, Train Accuracy: 0.7250000238418579, Valid Cost: 1.1414577960968018, Valid Accuracy: 0.6000000238418579\n",
      "Epoch 24, CIFAR-10 Batch 1:  Train Cost: 0.704139232635498, Train Accuracy: 0.7250000238418579, Valid Cost: 1.1489851474761963, Valid Accuracy: 0.601599931716919\n",
      "Epoch 24, CIFAR-10 Batch 2:  Train Cost: 0.6163061261177063, Train Accuracy: 0.824999988079071, Valid Cost: 1.198264718055725, Valid Accuracy: 0.5981999039649963\n",
      "Epoch 24, CIFAR-10 Batch 3:  Train Cost: 0.5600970983505249, Train Accuracy: 0.875, Valid Cost: 1.1269886493682861, Valid Accuracy: 0.6177999377250671\n",
      "Epoch 24, CIFAR-10 Batch 4:  Train Cost: 0.695346474647522, Train Accuracy: 0.75, Valid Cost: 1.1688684225082397, Valid Accuracy: 0.6061999201774597\n",
      "Epoch 24, CIFAR-10 Batch 5:  Train Cost: 0.6770738959312439, Train Accuracy: 0.8000000715255737, Valid Cost: 1.1597113609313965, Valid Accuracy: 0.6085999608039856\n",
      "Epoch 25, CIFAR-10 Batch 1:  Train Cost: 0.6155125498771667, Train Accuracy: 0.824999988079071, Valid Cost: 1.1425015926361084, Valid Accuracy: 0.607999861240387\n",
      "Epoch 25, CIFAR-10 Batch 2:  Train Cost: 0.5917415022850037, Train Accuracy: 0.875, Valid Cost: 1.1741583347320557, Valid Accuracy: 0.6065999269485474\n",
      "Epoch 25, CIFAR-10 Batch 3:  Train Cost: 0.5786588191986084, Train Accuracy: 0.9000000357627869, Valid Cost: 1.1257460117340088, Valid Accuracy: 0.6191998720169067\n",
      "Epoch 25, CIFAR-10 Batch 4:  Train Cost: 0.701866090297699, Train Accuracy: 0.7250000238418579, Valid Cost: 1.1790753602981567, Valid Accuracy: 0.6061998605728149\n",
      "Epoch 25, CIFAR-10 Batch 5:  Train Cost: 0.6841253042221069, Train Accuracy: 0.8000000715255737, Valid Cost: 1.1164228916168213, Valid Accuracy: 0.6159998774528503\n",
      "Epoch 26, CIFAR-10 Batch 1:  Train Cost: 0.6358935832977295, Train Accuracy: 0.824999988079071, Valid Cost: 1.171429991722107, Valid Accuracy: 0.5943999290466309\n",
      "Epoch 26, CIFAR-10 Batch 2:  Train Cost: 0.5396292209625244, Train Accuracy: 0.8500000238418579, Valid Cost: 1.1276379823684692, Valid Accuracy: 0.6191998720169067\n",
      "Epoch 26, CIFAR-10 Batch 3:  Train Cost: 0.5668332576751709, Train Accuracy: 0.875, Valid Cost: 1.1309025287628174, Valid Accuracy: 0.6147999167442322\n",
      "Epoch 26, CIFAR-10 Batch 4:  Train Cost: 0.7299470901489258, Train Accuracy: 0.7749999761581421, Valid Cost: 1.1743354797363281, Valid Accuracy: 0.6021998524665833\n",
      "Epoch 26, CIFAR-10 Batch 5:  Train Cost: 0.6617122888565063, Train Accuracy: 0.8250000476837158, Valid Cost: 1.1498644351959229, Valid Accuracy: 0.6113998889923096\n",
      "Epoch 27, CIFAR-10 Batch 1:  Train Cost: 0.6236333847045898, Train Accuracy: 0.8000000715255737, Valid Cost: 1.1423035860061646, Valid Accuracy: 0.6141998767852783\n",
      "Epoch 27, CIFAR-10 Batch 2:  Train Cost: 0.5203365087509155, Train Accuracy: 0.800000011920929, Valid Cost: 1.1352075338363647, Valid Accuracy: 0.6233999133110046\n",
      "Epoch 27, CIFAR-10 Batch 3:  Train Cost: 0.5387041568756104, Train Accuracy: 0.8999999761581421, Valid Cost: 1.133781909942627, Valid Accuracy: 0.6165999174118042\n",
      "Epoch 27, CIFAR-10 Batch 4:  Train Cost: 0.6839343309402466, Train Accuracy: 0.7750000357627869, Valid Cost: 1.1441895961761475, Valid Accuracy: 0.6165999174118042\n",
      "Epoch 27, CIFAR-10 Batch 5:  Train Cost: 0.6657765507698059, Train Accuracy: 0.7750000953674316, Valid Cost: 1.1387606859207153, Valid Accuracy: 0.612799882888794\n",
      "Epoch 28, CIFAR-10 Batch 1:  Train Cost: 0.5775182247161865, Train Accuracy: 0.8500000238418579, Valid Cost: 1.172287940979004, Valid Accuracy: 0.6101999878883362\n",
      "Epoch 28, CIFAR-10 Batch 2:  Train Cost: 0.5192020535469055, Train Accuracy: 0.824999988079071, Valid Cost: 1.1400089263916016, Valid Accuracy: 0.6221998929977417\n",
      "Epoch 28, CIFAR-10 Batch 3:  Train Cost: 0.47358667850494385, Train Accuracy: 0.875, Valid Cost: 1.1421122550964355, Valid Accuracy: 0.6205999255180359\n",
      "Epoch 28, CIFAR-10 Batch 4:  Train Cost: 0.7109977006912231, Train Accuracy: 0.800000011920929, Valid Cost: 1.152590036392212, Valid Accuracy: 0.6109998822212219\n",
      "Epoch 28, CIFAR-10 Batch 5:  Train Cost: 0.64103764295578, Train Accuracy: 0.8999999761581421, Valid Cost: 1.1555304527282715, Valid Accuracy: 0.6033998727798462\n",
      "Epoch 29, CIFAR-10 Batch 1:  Train Cost: 0.6296465992927551, Train Accuracy: 0.800000011920929, Valid Cost: 1.1715900897979736, Valid Accuracy: 0.6083998680114746\n",
      "Epoch 29, CIFAR-10 Batch 2:  Train Cost: 0.4511476159095764, Train Accuracy: 0.9000000357627869, Valid Cost: 1.139939308166504, Valid Accuracy: 0.6195999383926392\n",
      "Epoch 29, CIFAR-10 Batch 3:  Train Cost: 0.472131609916687, Train Accuracy: 0.875, Valid Cost: 1.1233378648757935, Valid Accuracy: 0.6195998787879944\n",
      "Epoch 29, CIFAR-10 Batch 4:  Train Cost: 0.6631850600242615, Train Accuracy: 0.7250000238418579, Valid Cost: 1.163635492324829, Valid Accuracy: 0.6061999201774597\n",
      "Epoch 29, CIFAR-10 Batch 5:  Train Cost: 0.5991635918617249, Train Accuracy: 0.8500000238418579, Valid Cost: 1.1255906820297241, Valid Accuracy: 0.6205998659133911\n",
      "Epoch 30, CIFAR-10 Batch 1:  Train Cost: 0.5460798144340515, Train Accuracy: 0.8500000238418579, Valid Cost: 1.1933846473693848, Valid Accuracy: 0.6079999208450317\n",
      "Epoch 30, CIFAR-10 Batch 2:  Train Cost: 0.4688863754272461, Train Accuracy: 0.9000000357627869, Valid Cost: 1.156891107559204, Valid Accuracy: 0.6165999174118042\n",
      "Epoch 30, CIFAR-10 Batch 3:  Train Cost: 0.41600295901298523, Train Accuracy: 0.9749999642372131, Valid Cost: 1.1369491815567017, Valid Accuracy: 0.6199999451637268\n",
      "Epoch 30, CIFAR-10 Batch 4:  Train Cost: 0.6917413473129272, Train Accuracy: 0.7749999761581421, Valid Cost: 1.1907893419265747, Valid Accuracy: 0.6171998977661133\n",
      "Epoch 30, CIFAR-10 Batch 5:  Train Cost: 0.5718768835067749, Train Accuracy: 0.875, Valid Cost: 1.1668987274169922, Valid Accuracy: 0.6103999018669128\n"
     ]
    }
   ],
   "source": [
    "\"\"\"\n",
    "DON'T MODIFY ANYTHING IN THIS CELL\n",
    "\"\"\"\n",
    "save_model_path = './image_classification'\n",
    "\n",
    "print('Training...')\n",
    "with tf.Session() as sess:\n",
    "    # Initializing the variables\n",
    "    sess.run(tf.global_variables_initializer())\n",
    "    \n",
    "    # Training cycle\n",
    "    for epoch in range(epochs):\n",
    "        # Loop over all batches\n",
    "        n_batches = 5\n",
    "        for batch_i in range(1, n_batches + 1):\n",
    "            for batch_features, batch_labels in helper.load_preprocess_training_batch(batch_i, batch_size):\n",
    "                train_neural_network(sess, optimizer, keep_probability, batch_features, batch_labels)\n",
    "            print('Epoch {:>2}, CIFAR-10 Batch {}:  '.format(epoch + 1, batch_i), end='')\n",
    "            print_stats(sess, batch_features, batch_labels, cost, accuracy)\n",
    "            \n",
    "    # Save Model\n",
    "    saver = tf.train.Saver()\n",
    "    save_path = saver.save(sess, save_model_path)"
   ]
  },
  {
   "cell_type": "markdown",
   "metadata": {
    "deletable": true,
    "editable": true
   },
   "source": [
    "# Checkpoint\n",
    "The model has been saved to disk.\n",
    "## Test Model\n",
    "Test your model against the test dataset.  This will be your final accuracy. You should have an accuracy greater than 50%. If you don't, keep tweaking the model architecture and parameters."
   ]
  },
  {
   "cell_type": "code",
   "execution_count": 18,
   "metadata": {
    "collapsed": false,
    "deletable": true,
    "editable": true
   },
   "outputs": [
    {
     "name": "stdout",
     "output_type": "stream",
     "text": [
      "Testing Accuracy: 0.6096716772151899\n",
      "\n"
     ]
    },
    {
     "data": {
      "image/png": "[encoded data removed]",
      "text/plain": [
       "<matplotlib.figure.Figure at 0x7f8a9e07df28>"
      ]
     },
     "metadata": {
      "image/png": {
       "height": 319,
       "width": 355
      }
     },
     "output_type": "display_data"
    }
   ],
   "source": [
    "\"\"\"\n",
    "DON'T MODIFY ANYTHING IN THIS CELL\n",
    "\"\"\"\n",
    "%matplotlib inline\n",
    "%config InlineBackend.figure_format = 'retina'\n",
    "\n",
    "import tensorflow as tf\n",
    "import pickle\n",
    "import helper\n",
    "import random\n",
    "\n",
    "# Set batch size if not already set\n",
    "try:\n",
    "    if batch_size:\n",
    "        pass\n",
    "except NameError:\n",
    "    batch_size = 64\n",
    "\n",
    "save_model_path = './image_classification'\n",
    "n_samples = 4\n",
    "top_n_predictions = 3\n",
    "\n",
    "def test_model():\n",
    "    \"\"\"\n",
    "    Test the saved model against the test dataset\n",
    "    \"\"\"\n",
    "\n",
    "    test_features, test_labels = pickle.load(open('preprocess_test.p', mode='rb'))\n",
    "    loaded_graph = tf.Graph()\n",
    "\n",
    "    with tf.Session(graph=loaded_graph) as sess:\n",
    "        # Load model\n",
    "        loader = tf.train.import_meta_graph(save_model_path + '.meta')\n",
    "        loader.restore(sess, save_model_path)\n",
    "\n",
    "        # Get Tensors from loaded model\n",
    "        loaded_x = loaded_graph.get_tensor_by_name('x:0')\n",
    "        loaded_y = loaded_graph.get_tensor_by_name('y:0')\n",
    "        loaded_keep_prob = loaded_graph.get_tensor_by_name('keep_prob:0')\n",
    "        loaded_logits = loaded_graph.get_tensor_by_name('logits:0')\n",
    "        loaded_acc = loaded_graph.get_tensor_by_name('accuracy:0')\n",
    "        \n",
    "        # Get accuracy in batches for memory limitations\n",
    "        test_batch_acc_total = 0\n",
    "        test_batch_count = 0\n",
    "        \n",
    "        for test_feature_batch, test_label_batch in helper.batch_features_labels(test_features, test_labels, batch_size):\n",
    "            test_batch_acc_total += sess.run(\n",
    "                loaded_acc,\n",
    "                feed_dict={loaded_x: test_feature_batch, loaded_y: test_label_batch, loaded_keep_prob: 1.0})\n",
    "            test_batch_count += 1\n",
    "\n",
    "        print('Testing Accuracy: {}\\n'.format(test_batch_acc_total/test_batch_count))\n",
    "\n",
    "        # Print Random Samples\n",
    "        random_test_features, random_test_labels = tuple(zip(*random.sample(list(zip(test_features, test_labels)), n_samples)))\n",
    "        random_test_predictions = sess.run(\n",
    "            tf.nn.top_k(tf.nn.softmax(loaded_logits), top_n_predictions),\n",
    "            feed_dict={loaded_x: random_test_features, loaded_y: random_test_labels, loaded_keep_prob: 1.0})\n",
    "        helper.display_image_predictions(random_test_features, random_test_labels, random_test_predictions)\n",
    "\n",
    "\n",
    "test_model()"
   ]
  },
  {
   "cell_type": "markdown",
   "metadata": {
    "deletable": true,
    "editable": true
   },
   "source": [
    "## Why 50-80% Accuracy?\n",
    "You might be wondering why you can't get an accuracy any higher. First things first, 50% isn't bad for a simple CNN.  Pure guessing would get you 10% accuracy. However, you might notice people are getting scores [well above 80%](http://rodrigob.github.io/are_we_there_yet/build/classification_datasets_results.html#43494641522d3130).  That's because we haven't taught you all there is to know about neural networks. We still need to cover a few more techniques.\n",
    "## Submitting This Project\n",
    "When submitting this project, make sure to run all the cells before saving the notebook.  Save the notebook file as \"dlnd_image_classification.ipynb\" and save it as a HTML file under \"File\" -> \"Download as\".  Include the \"helper.py\" and \"problem_unittests.py\" files in your submission."
   ]
  }
 ],
 "metadata": {
  "anaconda-cloud": {},
  "kernelspec": {
   "display_name": "Python 3",
   "language": "python",
   "name": "python3"
  },
  "language_info": {
   "codemirror_mode": {
    "name": "ipython",
    "version": 3
   },
   "file_extension": ".py",
   "mimetype": "text/x-python",
   "name": "python",
   "nbconvert_exporter": "python",
   "pygments_lexer": "ipython3",
   "version": "3.5.2"
  },
  "widgets": {
   "state": {},
   "version": "1.1.2"
  }
 },
 "nbformat": 4,
 "nbformat_minor": 1
}
