{
 "cells": [
  {
   "cell_type": "markdown",
   "metadata": {
    "collapsed": true,
    "deletable": true,
    "editable": true
   },
   "source": [
    "# Image Classification\n",
    "In this project, you'll classify images from the [CIFAR-10 dataset](https://www.cs.toronto.edu/~kriz/cifar.html).  The dataset consists of airplanes, dogs, cats, and other objects. You'll preprocess the images, then train a convolutional neural network on all the samples. The images need to be normalized and the labels need to be one-hot encoded.  You'll get to apply what you learned and build a convolutional, max pooling, dropout, and fully connected layers.  At the end, you'll get to see your neural network's predictions on the sample images.\n",
    "## Get the Data\n",
    "Run the following cell to download the [CIFAR-10 dataset for python](https://www.cs.toronto.edu/~kriz/cifar-10-python.tar.gz)."
   ]
  },
  {
   "cell_type": "code",
   "execution_count": 1,
   "metadata": {
    "collapsed": false,
    "deletable": true,
    "editable": true
   },
   "outputs": [
    {
     "name": "stdout",
     "output_type": "stream",
     "text": [
      "All files found!\n"
     ]
    }
   ],
   "source": [
    "\"\"\"\n",
    "DON'T MODIFY ANYTHING IN THIS CELL THAT IS BELOW THIS LINE\n",
    "\"\"\"\n",
    "from urllib.request import urlretrieve\n",
    "from os.path import isfile, isdir\n",
    "from tqdm import tqdm\n",
    "import problem_unittests as tests\n",
    "import tarfile\n",
    "\n",
    "cifar10_dataset_folder_path = 'cifar-10-batches-py'\n",
    "\n",
    "# Use Floyd's cifar-10 dataset if present\n",
    "floyd_cifar10_location = '/input/cifar-10/python.tar.gz'\n",
    "if isfile(floyd_cifar10_location):\n",
    "    tar_gz_path = floyd_cifar10_location\n",
    "else:\n",
    "    tar_gz_path = 'cifar-10-python.tar.gz'\n",
    "\n",
    "class DLProgress(tqdm):\n",
    "    last_block = 0\n",
    "\n",
    "    def hook(self, block_num=1, block_size=1, total_size=None):\n",
    "        self.total = total_size\n",
    "        self.update((block_num - self.last_block) * block_size)\n",
    "        self.last_block = block_num\n",
    "\n",
    "if not isfile(tar_gz_path):\n",
    "    with DLProgress(unit='B', unit_scale=True, miniters=1, desc='CIFAR-10 Dataset') as pbar:\n",
    "        urlretrieve(\n",
    "            'https://www.cs.toronto.edu/~kriz/cifar-10-python.tar.gz',\n",
    "            tar_gz_path,\n",
    "            pbar.hook)\n",
    "\n",
    "if not isdir(cifar10_dataset_folder_path):\n",
    "    with tarfile.open(tar_gz_path) as tar:\n",
    "        tar.extractall()\n",
    "        tar.close()\n",
    "\n",
    "\n",
    "tests.test_folder_path(cifar10_dataset_folder_path)"
   ]
  },
  {
   "cell_type": "markdown",
   "metadata": {
    "deletable": true,
    "editable": true
   },
   "source": [
    "## Explore the Data\n",
    "The dataset is broken into batches to prevent your machine from running out of memory.  The CIFAR-10 dataset consists of 5 batches, named `data_batch_1`, `data_batch_2`, etc.. Each batch contains the labels and images that are one of the following:\n",
    "* airplane\n",
    "* automobile\n",
    "* bird\n",
    "* cat\n",
    "* deer\n",
    "* dog\n",
    "* frog\n",
    "* horse\n",
    "* ship\n",
    "* truck\n",
    "\n",
    "Understanding a dataset is part of making predictions on the data.  Play around with the code cell below by changing the `batch_id` and `sample_id`. The `batch_id` is the id for a batch (1-5). The `sample_id` is the id for a image and label pair in the batch.\n",
    "\n",
    "Ask yourself \"What are all possible labels?\", \"What is the range of values for the image data?\", \"Are the labels in order or random?\".  Answers to questions like these will help you preprocess the data and end up with better predictions."
   ]
  },
  {
   "cell_type": "code",
   "execution_count": 2,
   "metadata": {
    "collapsed": false,
    "deletable": true,
    "editable": true
   },
   "outputs": [
    {
     "name": "stdout",
     "output_type": "stream",
     "text": [
      "\n",
      "Stats of batch 1:\n",
      "Samples: 10000\n",
      "Label Counts: {0: 1005, 1: 974, 2: 1032, 3: 1016, 4: 999, 5: 937, 6: 1030, 7: 1001, 8: 1025, 9: 981}\n",
      "First 20 Labels: [6, 9, 9, 4, 1, 1, 2, 7, 8, 3, 4, 7, 7, 2, 9, 9, 9, 3, 2, 6]\n",
      "\n",
      "Example of Image 5:\n",
      "Image - Min Value: 0 Max Value: 252\n",
      "Image - Shape: (32, 32, 3)\n",
      "Label - Label Id: 1 Name: automobile\n"
     ]
    },
    {
     "data": {
      "image/png": "[encoded data removed]",
      "text/plain": [
       "<matplotlib.figure.Figure at 0x7f43e7ac5dd8>"
      ]
     },
     "metadata": {
      "image/png": {
       "height": 250,
       "width": 253
      }
     },
     "output_type": "display_data"
    }
   ],
   "source": [
    "%matplotlib inline\n",
    "%config InlineBackend.figure_format = 'retina'\n",
    "\n",
    "import helper\n",
    "import numpy as np\n",
    "\n",
    "# Explore the dataset\n",
    "batch_id = 1\n",
    "sample_id = 5\n",
    "helper.display_stats(cifar10_dataset_folder_path, batch_id, sample_id)"
   ]
  },
  {
   "cell_type": "markdown",
   "metadata": {
    "deletable": true,
    "editable": true
   },
   "source": [
    "## Implement Preprocess Functions\n",
    "### Normalize\n",
    "In the cell below, implement the `normalize` function to take in image data, `x`, and return it as a normalized Numpy array. The values should be in the range of 0 to 1, inclusive.  The return object should be the same shape as `x`."
   ]
  },
  {
   "cell_type": "code",
   "execution_count": 3,
   "metadata": {
    "collapsed": false,
    "deletable": true,
    "editable": true
   },
   "outputs": [
    {
     "name": "stdout",
     "output_type": "stream",
     "text": [
      "Tests Passed\n"
     ]
    }
   ],
   "source": [
    "def normalize(x):\n",
    "    \"\"\"\n",
    "    Normalize a list of sample image data in the range of 0 to 1\n",
    "    : x: List of image data.  The image shape is (32, 32, 3)\n",
    "    : return: Numpy array of normalize data\n",
    "    \"\"\"\n",
    "    # Implement Function\n",
    "    return x/255\n",
    "\n",
    "\n",
    "\"\"\"\n",
    "DON'T MODIFY ANYTHING IN THIS CELL THAT IS BELOW THIS LINE\n",
    "\"\"\"\n",
    "tests.test_normalize(normalize)"
   ]
  },
  {
   "cell_type": "markdown",
   "metadata": {
    "deletable": true,
    "editable": true
   },
   "source": [
    "### One-hot encode\n",
    "Just like the previous code cell, you'll be implementing a function for preprocessing.  This time, you'll implement the `one_hot_encode` function. The input, `x`, are a list of labels.  Implement the function to return the list of labels as One-Hot encoded Numpy array.  The possible values for labels are 0 to 9. The one-hot encoding function should return the same encoding for each value between each call to `one_hot_encode`.  Make sure to save the map of encodings outside the function.\n",
    "\n",
    "Hint: Don't reinvent the wheel."
   ]
  },
  {
   "cell_type": "code",
   "execution_count": 4,
   "metadata": {
    "collapsed": false,
    "deletable": true,
    "editable": true
   },
   "outputs": [
    {
     "name": "stdout",
     "output_type": "stream",
     "text": [
      "Tests Passed\n"
     ]
    }
   ],
   "source": [
    "def one_hot_encode(x):\n",
    "    \"\"\"\n",
    "    One hot encode a list of sample labels. Return a one-hot encoded vector for each label.\n",
    "    : x: List of sample Labels\n",
    "    : return: Numpy array of one-hot encoded labels\n",
    "    \"\"\"\n",
    "    # Implement Function\n",
    "    one_hot = np.zeros((len(x), 10))\n",
    "    one_hot[np.arange(len(x)), x] = 1.\n",
    "    return one_hot\n",
    "\n",
    "\n",
    "\"\"\"\n",
    "DON'T MODIFY ANYTHING IN THIS CELL THAT IS BELOW THIS LINE\n",
    "\"\"\"\n",
    "tests.test_one_hot_encode(one_hot_encode)"
   ]
  },
  {
   "cell_type": "markdown",
   "metadata": {
    "deletable": true,
    "editable": true
   },
   "source": [
    "### Randomize Data\n",
    "As you saw from exploring the data above, the order of the samples are randomized.  It doesn't hurt to randomize it again, but you don't need to for this dataset."
   ]
  },
  {
   "cell_type": "markdown",
   "metadata": {
    "deletable": true,
    "editable": true
   },
   "source": [
    "## Preprocess all the data and save it\n",
    "Running the code cell below will preprocess all the CIFAR-10 data and save it to file. The code below also uses 10% of the training data for validation."
   ]
  },
  {
   "cell_type": "code",
   "execution_count": 5,
   "metadata": {
    "collapsed": false,
    "deletable": true,
    "editable": true
   },
   "outputs": [],
   "source": [
    "\"\"\"\n",
    "DON'T MODIFY ANYTHING IN THIS CELL\n",
    "\"\"\"\n",
    "# Preprocess Training, Validation, and Testing Data\n",
    "helper.preprocess_and_save_data(cifar10_dataset_folder_path, normalize, one_hot_encode)"
   ]
  },
  {
   "cell_type": "markdown",
   "metadata": {
    "deletable": true,
    "editable": true
   },
   "source": [
    "# Check Point\n",
    "This is your first checkpoint.  If you ever decide to come back to this notebook or have to restart the notebook, you can start from here.  The preprocessed data has been saved to disk."
   ]
  },
  {
   "cell_type": "code",
   "execution_count": 6,
   "metadata": {
    "collapsed": true,
    "deletable": true,
    "editable": true
   },
   "outputs": [],
   "source": [
    "\"\"\"\n",
    "DON'T MODIFY ANYTHING IN THIS CELL\n",
    "\"\"\"\n",
    "import pickle\n",
    "import problem_unittests as tests\n",
    "import helper\n",
    "\n",
    "# Load the Preprocessed Validation data\n",
    "valid_features, valid_labels = pickle.load(open('preprocess_validation.p', mode='rb'))"
   ]
  },
  {
   "cell_type": "markdown",
   "metadata": {
    "deletable": true,
    "editable": true
   },
   "source": [
    "## Build the network\n",
    "For the neural network, you'll build each layer into a function.  Most of the code you've seen has been outside of functions. To test your code more thoroughly, we require that you put each layer in a function.  This allows us to give you better feedback and test for simple mistakes using our unittests before you submit your project.\n",
    "\n",
    ">**Note:** If you're finding it hard to dedicate enough time for this course each week, we've provided a small shortcut to this part of the project. In the next couple of problems, you'll have the option to use classes from the [TensorFlow Layers](https://www.tensorflow.org/api_docs/python/tf/layers) or [TensorFlow Layers (contrib)](https://www.tensorflow.org/api_guides/python/contrib.layers) packages to build each layer, except the layers you build in the \"Convolutional and Max Pooling Layer\" section.  TF Layers is similar to Keras's and TFLearn's abstraction to layers, so it's easy to pickup.\n",
    "\n",
    ">However, if you would like to get the most out of this course, try to solve all the problems _without_ using anything from the TF Layers packages. You **can** still use classes from other packages that happen to have the same name as ones you find in TF Layers! For example, instead of using the TF Layers version of the `conv2d` class, [tf.layers.conv2d](https://www.tensorflow.org/api_docs/python/tf/layers/conv2d), you would want to use the TF Neural Network version of `conv2d`, [tf.nn.conv2d](https://www.tensorflow.org/api_docs/python/tf/nn/conv2d). \n",
    "\n",
    "Let's begin!\n",
    "\n",
    "### Input\n",
    "The neural network needs to read the image data, one-hot encoded labels, and dropout keep probability. Implement the following functions\n",
    "* Implement `neural_net_image_input`\n",
    " * Return a [TF Placeholder](https://www.tensorflow.org/api_docs/python/tf/placeholder)\n",
    " * Set the shape using `image_shape` with batch size set to `None`.\n",
    " * Name the TensorFlow placeholder \"x\" using the TensorFlow `name` parameter in the [TF Placeholder](https://www.tensorflow.org/api_docs/python/tf/placeholder).\n",
    "* Implement `neural_net_label_input`\n",
    " * Return a [TF Placeholder](https://www.tensorflow.org/api_docs/python/tf/placeholder)\n",
    " * Set the shape using `n_classes` with batch size set to `None`.\n",
    " * Name the TensorFlow placeholder \"y\" using the TensorFlow `name` parameter in the [TF Placeholder](https://www.tensorflow.org/api_docs/python/tf/placeholder).\n",
    "* Implement `neural_net_keep_prob_input`\n",
    " * Return a [TF Placeholder](https://www.tensorflow.org/api_docs/python/tf/placeholder) for dropout keep probability.\n",
    " * Name the TensorFlow placeholder \"keep_prob\" using the TensorFlow `name` parameter in the [TF Placeholder](https://www.tensorflow.org/api_docs/python/tf/placeholder).\n",
    "\n",
    "These names will be used at the end of the project to load your saved model.\n",
    "\n",
    "Note: `None` for shapes in TensorFlow allow for a dynamic size."
   ]
  },
  {
   "cell_type": "code",
   "execution_count": 7,
   "metadata": {
    "collapsed": false,
    "deletable": true,
    "editable": true
   },
   "outputs": [
    {
     "name": "stdout",
     "output_type": "stream",
     "text": [
      "Image Input Tests Passed.\n",
      "Label Input Tests Passed.\n",
      "Keep Prob Tests Passed.\n"
     ]
    }
   ],
   "source": [
    "import tensorflow as tf\n",
    "\n",
    "def neural_net_image_input(image_shape):\n",
    "    \"\"\"\n",
    "    Return a Tensor for a batch of image input\n",
    "    : image_shape: Shape of the images\n",
    "    : return: Tensor for image input.\n",
    "    \"\"\"\n",
    "    # define input placeholder \n",
    "    input_placeholder = tf.placeholder(shape=[None, image_shape[0], image_shape[1], \n",
    "                                              image_shape[2]], name='x', dtype=tf.float32)\n",
    "    return input_placeholder\n",
    "\n",
    "\n",
    "def neural_net_label_input(n_classes):\n",
    "    \"\"\"\n",
    "    Return a Tensor for a batch of label input\n",
    "    : n_classes: Number of classes\n",
    "    : return: Tensor for label input.\n",
    "    \"\"\"\n",
    "    # define labels placeholder \n",
    "    label_placeholder = tf.placeholder(shape=[None, n_classes], name='y', dtype=tf.float32)\n",
    "    return label_placeholder\n",
    "\n",
    "\n",
    "def neural_net_keep_prob_input():\n",
    "    \"\"\"\n",
    "    Return a Tensor for keep probability\n",
    "    : return: Tensor for keep probability.\n",
    "    \"\"\"\n",
    "    # define dropout placeholder \n",
    "    dropout_placeholder = tf.placeholder(dtype=tf.float32, name='keep_prob')\n",
    "    return dropout_placeholder\n",
    "\n",
    "\n",
    "\"\"\"\n",
    "DON'T MODIFY ANYTHING IN THIS CELL THAT IS BELOW THIS LINE\n",
    "\"\"\"\n",
    "tf.reset_default_graph()\n",
    "tests.test_nn_image_inputs(neural_net_image_input)\n",
    "tests.test_nn_label_inputs(neural_net_label_input)\n",
    "tests.test_nn_keep_prob_inputs(neural_net_keep_prob_input)"
   ]
  },
  {
   "cell_type": "markdown",
   "metadata": {
    "deletable": true,
    "editable": true
   },
   "source": [
    "### Convolution and Max Pooling Layer\n",
    "Convolution layers have a lot of success with images. For this code cell, you should implement the function `conv2d_maxpool` to apply convolution then max pooling:\n",
    "* Create the weight and bias using `conv_ksize`, `conv_num_outputs` and the shape of `x_tensor`.\n",
    "* Apply a convolution to `x_tensor` using weight and `conv_strides`.\n",
    " * We recommend you use same padding, but you're welcome to use any padding.\n",
    "* Add bias\n",
    "* Add a nonlinear activation to the convolution.\n",
    "* Apply Max Pooling using `pool_ksize` and `pool_strides`.\n",
    " * We recommend you use same padding, but you're welcome to use any padding.\n",
    "\n",
    "**Note:** You **can't** use [TensorFlow Layers](https://www.tensorflow.org/api_docs/python/tf/layers) or [TensorFlow Layers (contrib)](https://www.tensorflow.org/api_guides/python/contrib.layers) for **this** layer, but you can still use TensorFlow's [Neural Network](https://www.tensorflow.org/api_docs/python/tf/nn) package. You may still use the shortcut option for all the **other** layers."
   ]
  },
  {
   "cell_type": "code",
   "execution_count": 8,
   "metadata": {
    "collapsed": false,
    "deletable": true,
    "editable": true
   },
   "outputs": [
    {
     "name": "stdout",
     "output_type": "stream",
     "text": [
      "Tests Passed\n"
     ]
    }
   ],
   "source": [
    "def conv2d_maxpool(x_tensor, conv_num_outputs, conv_ksize, conv_strides, pool_ksize, pool_strides):\n",
    "    \"\"\"\n",
    "    Apply convolution then max pooling to x_tensor\n",
    "    :param x_tensor: TensorFlow Tensor\n",
    "    :param conv_num_outputs: Number of outputs for the convolutional layer\n",
    "    :param conv_ksize: kernal size 2-D Tuple for the convolutional layer\n",
    "    :param conv_strides: Stride 2-D Tuple for convolution\n",
    "    :param pool_ksize: kernal size 2-D Tuple for pool\n",
    "    :param pool_strides: Stride 2-D Tuple for pool\n",
    "    : return: A tensor that represents convolution and max pooling of x_tensor\n",
    "    \"\"\"\n",
    "    # define kernel params\n",
    "    input_depth = x_tensor.get_shape().as_list()[-1]\n",
    "    kernel_size = [conv_ksize[0], conv_ksize[1], input_depth, conv_num_outputs]\n",
    "    kernel_strides = [1, conv_strides[0], conv_strides[1], 1]\n",
    "    \n",
    "    # define weight and bias\n",
    "    weight = tf.Variable(tf.truncated_normal(shape=kernel_size))\n",
    "    bias = tf.Variable(tf.zeros(conv_num_outputs))\n",
    "    \n",
    "    # convolve on input tensor\n",
    "    conv_output = tf.nn.bias_add(tf.nn.conv2d(x_tensor, weight, strides=kernel_strides,\n",
    "                                           padding='SAME'), bias)\n",
    "    logit = tf.nn.relu(conv_output)\n",
    "    \n",
    "    # define max pool params\n",
    "    pool_size = [1, pool_ksize[0], pool_ksize[1], 1]\n",
    "    pool_stride = [1, pool_strides[0], pool_strides[1], 1]\n",
    "    \n",
    "    # max pool conv output\n",
    "    pool_output = tf.nn.max_pool(conv_output, pool_size, pool_stride, padding='SAME')\n",
    "    return pool_output \n",
    "\n",
    "\n",
    "\"\"\"\n",
    "DON'T MODIFY ANYTHING IN THIS CELL THAT IS BELOW THIS LINE\n",
    "\"\"\"\n",
    "tests.test_con_pool(conv2d_maxpool)"
   ]
  },
  {
   "cell_type": "markdown",
   "metadata": {
    "deletable": true,
    "editable": true
   },
   "source": [
    "### Flatten Layer\n",
    "Implement the `flatten` function to change the dimension of `x_tensor` from a 4-D tensor to a 2-D tensor.  The output should be the shape (*Batch Size*, *Flattened Image Size*). Shortcut option: you can use classes from the [TensorFlow Layers](https://www.tensorflow.org/api_docs/python/tf/layers) or [TensorFlow Layers (contrib)](https://www.tensorflow.org/api_guides/python/contrib.layers) packages for this layer. For more of a challenge, only use other TensorFlow packages."
   ]
  },
  {
   "cell_type": "code",
   "execution_count": 9,
   "metadata": {
    "collapsed": false,
    "deletable": true,
    "editable": true
   },
   "outputs": [
    {
     "name": "stdout",
     "output_type": "stream",
     "text": [
      "Tests Passed\n"
     ]
    }
   ],
   "source": [
    "def flatten(x_tensor):\n",
    "    \"\"\"\n",
    "    Flatten x_tensor to (Batch Size, Flattened Image Size)\n",
    "    : x_tensor: A tensor of size (Batch Size, ...), where ... are the image dimensions.\n",
    "    : return: A tensor of size (Batch Size, Flattened Image Size).\n",
    "    \"\"\"\n",
    "    # compute dim\n",
    "    dim = np.product(x_tensor.get_shape().as_list()[1:])\n",
    "    return tf.reshape(x_tensor, shape=[-1, dim])\n",
    "\n",
    "\n",
    "\"\"\"\n",
    "DON'T MODIFY ANYTHING IN THIS CELL THAT IS BELOW THIS LINE\n",
    "\"\"\"\n",
    "tests.test_flatten(flatten)"
   ]
  },
  {
   "cell_type": "markdown",
   "metadata": {
    "deletable": true,
    "editable": true
   },
   "source": [
    "### Fully-Connected Layer\n",
    "Implement the `fully_conn` function to apply a fully connected layer to `x_tensor` with the shape (*Batch Size*, *num_outputs*). Shortcut option: you can use classes from the [TensorFlow Layers](https://www.tensorflow.org/api_docs/python/tf/layers) or [TensorFlow Layers (contrib)](https://www.tensorflow.org/api_guides/python/contrib.layers) packages for this layer. For more of a challenge, only use other TensorFlow packages."
   ]
  },
  {
   "cell_type": "code",
   "execution_count": 10,
   "metadata": {
    "collapsed": false,
    "deletable": true,
    "editable": true
   },
   "outputs": [
    {
     "name": "stdout",
     "output_type": "stream",
     "text": [
      "Tests Passed\n"
     ]
    }
   ],
   "source": [
    "def fully_conn(x_tensor, num_outputs):\n",
    "    \"\"\"\n",
    "    Apply a fully connected layer to x_tensor using weight and bias\n",
    "    : x_tensor: A 2-D tensor where the first dimension is batch size.\n",
    "    : num_outputs: The number of output that the new tensor should be.\n",
    "    : return: A 2-D tensor where the second dimension is num_outputs.\n",
    "    \"\"\"\n",
    "    # compute non-linear transformation\n",
    "    input_dim = x_tensor.get_shape().as_list()[-1]\n",
    "    weight = tf.Variable(tf.truncated_normal(shape=[input_dim, num_outputs], stddev=0.01))\n",
    "    bias = tf.Variable(tf.zeros(num_outputs))\n",
    "    affine = tf.matmul(x_tensor, weight) + bias\n",
    "    return tf.nn.relu(affine)\n",
    "\n",
    "\n",
    "\"\"\"\n",
    "DON'T MODIFY ANYTHING IN THIS CELL THAT IS BELOW THIS LINE\n",
    "\"\"\"\n",
    "tests.test_fully_conn(fully_conn)"
   ]
  },
  {
   "cell_type": "markdown",
   "metadata": {
    "deletable": true,
    "editable": true
   },
   "source": [
    "### Output Layer\n",
    "Implement the `output` function to apply a fully connected layer to `x_tensor` with the shape (*Batch Size*, *num_outputs*). Shortcut option: you can use classes from the [TensorFlow Layers](https://www.tensorflow.org/api_docs/python/tf/layers) or [TensorFlow Layers (contrib)](https://www.tensorflow.org/api_guides/python/contrib.layers) packages for this layer. For more of a challenge, only use other TensorFlow packages.\n",
    "\n",
    "**Note:** Activation, softmax, or cross entropy should **not** be applied to this."
   ]
  },
  {
   "cell_type": "code",
   "execution_count": 11,
   "metadata": {
    "collapsed": false,
    "deletable": true,
    "editable": true
   },
   "outputs": [
    {
     "name": "stdout",
     "output_type": "stream",
     "text": [
      "Tests Passed\n"
     ]
    }
   ],
   "source": [
    "def output(x_tensor, num_outputs):\n",
    "    \"\"\"\n",
    "    Apply a output layer to x_tensor using weight and bias\n",
    "    : x_tensor: A 2-D tensor where the first dimension is batch size.\n",
    "    : num_outputs: The number of output that the new tensor should be.\n",
    "    : return: A 2-D tensor where the second dimension is num_outputs.\n",
    "    \"\"\"\n",
    "    # compute affine transformation\n",
    "    input_dim = x_tensor.get_shape().as_list()[-1]\n",
    "    weight = tf.Variable(tf.truncated_normal(shape=[input_dim, num_outputs], stddev=0.01))\n",
    "    bias = tf.Variable(tf.zeros(num_outputs))\n",
    "    affine = tf.matmul(x_tensor, weight) + bias\n",
    "    return affine\n",
    "\n",
    "\n",
    "\"\"\"\n",
    "DON'T MODIFY ANYTHING IN THIS CELL THAT IS BELOW THIS LINE\n",
    "\"\"\"\n",
    "tests.test_output(output)"
   ]
  },
  {
   "cell_type": "markdown",
   "metadata": {
    "deletable": true,
    "editable": true
   },
   "source": [
    "### Create Convolutional Model\n",
    "Implement the function `conv_net` to create a convolutional neural network model. The function takes in a batch of images, `x`, and outputs logits.  Use the layers you created above to create this model:\n",
    "\n",
    "* Apply 1, 2, or 3 Convolution and Max Pool layers\n",
    "* Apply a Flatten Layer\n",
    "* Apply 1, 2, or 3 Fully Connected Layers\n",
    "* Apply an Output Layer\n",
    "* Return the output\n",
    "* Apply [TensorFlow's Dropout](https://www.tensorflow.org/api_docs/python/tf/nn/dropout) to one or more layers in the model using `keep_prob`. "
   ]
  },
  {
   "cell_type": "code",
   "execution_count": 12,
   "metadata": {
    "collapsed": false,
    "deletable": true,
    "editable": true
   },
   "outputs": [
    {
     "name": "stdout",
     "output_type": "stream",
     "text": [
      "Neural Network Built!\n"
     ]
    }
   ],
   "source": [
    "def conv_net(x, keep_prob):\n",
    "    \"\"\"\n",
    "    Create a convolutional neural network model\n",
    "    : x: Placeholder tensor that holds image data.\n",
    "    : keep_prob: Placeholder tensor that hold dropout keep probability.\n",
    "    : return: Tensor that represents logits\n",
    "    \"\"\"\n",
    "    # Apply 1, 2, or 3 Convolution and Max Pool layers\n",
    "    #    Play around with different number of outputs, kernel size and stride\n",
    "    # Function Definition from Above:\n",
    "    #    conv2d_maxpool(x_tensor, conv_num_outputs, conv_ksize, conv_strides, pool_ksize, pool_strides)\n",
    "    layer1 = conv2d_maxpool(x, 32, [3, 3], [1, 1], [2, 2], [2, 2])\n",
    "    layer2 = conv2d_maxpool(layer1, 64, [3, 3], [1, 1], [2, 2], [2, 2])\n",
    "    layer3 = conv2d_maxpool(layer2, 64, [3, 3], [1, 1], [2, 2], [2, 2])\n",
    "    \n",
    "    # Apply a Flatten Layer\n",
    "    # Function Definition from Above:\n",
    "    #   flatten(x_tensor)\n",
    "    flattened = flatten(layer3)\n",
    "    \n",
    "    # Apply 1, 2, or 3 Fully Connected Layers\n",
    "    #    Play around with different number of outputs\n",
    "    # Function Definition from Above:\n",
    "    #   fully_conn(x_tensor, num_outputs)\n",
    "    \n",
    "    fc1 = fully_conn(flattened, 500)\n",
    "    fc1 = tf.nn.dropout(fc1, keep_prob)\n",
    "    \n",
    "    fc2 = fully_conn(fc1, 500)\n",
    "    fc2 = tf.nn.dropout(fc2, keep_prob)\n",
    "    \n",
    "    # Apply an Output Layer\n",
    "    #    Set this to the number of classes\n",
    "    # Function Definition from Above:\n",
    "    #   output(x_tensor, num_outputs)\n",
    "    logits = output(fc2, 10)\n",
    "    \n",
    "    # return output\n",
    "    return logits\n",
    "\n",
    "\n",
    "\"\"\"\n",
    "DON'T MODIFY ANYTHING IN THIS CELL THAT IS BELOW THIS LINE\n",
    "\"\"\"\n",
    "\n",
    "##############################\n",
    "## Build the Neural Network ##\n",
    "##############################\n",
    "\n",
    "# Remove previous weights, bias, inputs, etc..\n",
    "tf.reset_default_graph()\n",
    "\n",
    "# Inputs\n",
    "x = neural_net_image_input((32, 32, 3))\n",
    "y = neural_net_label_input(10)\n",
    "keep_prob = neural_net_keep_prob_input()\n",
    "\n",
    "# Model\n",
    "logits = conv_net(x, keep_prob)\n",
    "\n",
    "# Name logits Tensor, so that is can be loaded from disk after training\n",
    "logits = tf.identity(logits, name='logits')\n",
    "\n",
    "# Loss and Optimizer\n",
    "cost = tf.reduce_mean(tf.nn.softmax_cross_entropy_with_logits(logits=logits, labels=y))\n",
    "optimizer = tf.train.AdamOptimizer().minimize(cost)\n",
    "\n",
    "# Accuracy\n",
    "correct_pred = tf.equal(tf.argmax(logits, 1), tf.argmax(y, 1))\n",
    "accuracy = tf.reduce_mean(tf.cast(correct_pred, tf.float32), name='accuracy')\n",
    "\n",
    "tests.test_conv_net(conv_net)"
   ]
  },
  {
   "cell_type": "markdown",
   "metadata": {
    "deletable": true,
    "editable": true
   },
   "source": [
    "## Train the Neural Network\n",
    "### Single Optimization\n",
    "Implement the function `train_neural_network` to do a single optimization.  The optimization should use `optimizer` to optimize in `session` with a `feed_dict` of the following:\n",
    "* `x` for image input\n",
    "* `y` for labels\n",
    "* `keep_prob` for keep probability for dropout\n",
    "\n",
    "This function will be called for each batch, so `tf.global_variables_initializer()` has already been called.\n",
    "\n",
    "Note: Nothing needs to be returned. This function is only optimizing the neural network."
   ]
  },
  {
   "cell_type": "code",
   "execution_count": 13,
   "metadata": {
    "collapsed": false,
    "deletable": true,
    "editable": true
   },
   "outputs": [
    {
     "name": "stdout",
     "output_type": "stream",
     "text": [
      "Tests Passed\n"
     ]
    }
   ],
   "source": [
    "def train_neural_network(session, optimizer, keep_probability, feature_batch, label_batch):\n",
    "    \"\"\"\n",
    "    Optimize the session on a batch of images and labels\n",
    "    : session: Current TensorFlow session\n",
    "    : optimizer: TensorFlow optimizer function\n",
    "    : keep_probability: keep probability\n",
    "    : feature_batch: Batch of Numpy image data\n",
    "    : label_batch: Batch of Numpy label data\n",
    "    \"\"\"\n",
    "    # TODO: Implement Function\n",
    "    feed_dict = {\n",
    "        x: feature_batch,\n",
    "        y: label_batch,\n",
    "        keep_prob: keep_probability\n",
    "    }\n",
    "    _ = session.run(optimizer, feed_dict=feed_dict)\n",
    "\n",
    "\n",
    "\"\"\"\n",
    "DON'T MODIFY ANYTHING IN THIS CELL THAT IS BELOW THIS LINE\n",
    "\"\"\"\n",
    "tests.test_train_nn(train_neural_network)"
   ]
  },
  {
   "cell_type": "markdown",
   "metadata": {
    "deletable": true,
    "editable": true
   },
   "source": [
    "### Show Stats\n",
    "Implement the function `print_stats` to print loss and validation accuracy.  Use the global variables `valid_features` and `valid_labels` to calculate validation accuracy.  Use a keep probability of `1.0` to calculate the loss and validation accuracy."
   ]
  },
  {
   "cell_type": "code",
   "execution_count": 14,
   "metadata": {
    "collapsed": false,
    "deletable": true,
    "editable": true
   },
   "outputs": [],
   "source": [
    "def print_stats(session, feature_batch, label_batch, cost, accuracy):\n",
    "    \"\"\"\n",
    "    Print information about loss and validation accuracy\n",
    "    : session: Current TensorFlow session\n",
    "    : feature_batch: Batch of Numpy image data\n",
    "    : label_batch: Batch of Numpy label data\n",
    "    : cost: TensorFlow cost function\n",
    "    : accuracy: TensorFlow accuracy function\n",
    "    \"\"\"\n",
    "    # TODO: Implement Function\n",
    "    feed_dict = {\n",
    "        x: feature_batch,\n",
    "        y: label_batch,\n",
    "        keep_prob: 1.0\n",
    "    }\n",
    "    loss, acc = session.run([cost, accuracy], feed_dict=feed_dict)\n",
    "    print('Cost: {}, Accuracy: {}'.format(loss, acc))"
   ]
  },
  {
   "cell_type": "markdown",
   "metadata": {
    "deletable": true,
    "editable": true
   },
   "source": [
    "### Hyperparameters\n",
    "Tune the following parameters:\n",
    "* Set `epochs` to the number of iterations until the network stops learning or start overfitting\n",
    "* Set `batch_size` to the highest number that your machine has memory for.  Most people set them to common sizes of memory:\n",
    " * 64\n",
    " * 128\n",
    " * 256\n",
    " * ...\n",
    "* Set `keep_probability` to the probability of keeping a node using dropout"
   ]
  },
  {
   "cell_type": "code",
   "execution_count": 15,
   "metadata": {
    "collapsed": true,
    "deletable": true,
    "editable": true
   },
   "outputs": [],
   "source": [
    "## TODO: Tune Parameters\n",
    "epochs = 30\n",
    "batch_size = 128\n",
    "keep_probability = 0.8"
   ]
  },
  {
   "cell_type": "markdown",
   "metadata": {
    "deletable": true,
    "editable": true
   },
   "source": [
    "### Train on a Single CIFAR-10 Batch\n",
    "Instead of training the neural network on all the CIFAR-10 batches of data, let's use a single batch. This should save time while you iterate on the model to get a better accuracy.  Once the final validation accuracy is 50% or greater, run the model on all the data in the next section."
   ]
  },
  {
   "cell_type": "code",
   "execution_count": 16,
   "metadata": {
    "collapsed": false,
    "deletable": true,
    "editable": true
   },
   "outputs": [
    {
     "name": "stdout",
     "output_type": "stream",
     "text": [
      "Checking the Training on a Single Batch...\n",
      "Epoch  1, CIFAR-10 Batch 1:  Cost: 1.9947857856750488, Accuracy: 0.2750000059604645\n",
      "Epoch  2, CIFAR-10 Batch 1:  Cost: 1.8899980783462524, Accuracy: 0.375\n",
      "Epoch  3, CIFAR-10 Batch 1:  Cost: 1.7446620464324951, Accuracy: 0.4750000238418579\n",
      "Epoch  4, CIFAR-10 Batch 1:  Cost: 1.6647311449050903, Accuracy: 0.42500001192092896\n",
      "Epoch  5, CIFAR-10 Batch 1:  Cost: 1.5709075927734375, Accuracy: 0.550000011920929\n",
      "Epoch  6, CIFAR-10 Batch 1:  Cost: 1.5066059827804565, Accuracy: 0.4000000059604645\n",
      "Epoch  7, CIFAR-10 Batch 1:  Cost: 1.4396238327026367, Accuracy: 0.5750000476837158\n",
      "Epoch  8, CIFAR-10 Batch 1:  Cost: 1.2357488870620728, Accuracy: 0.625\n",
      "Epoch  9, CIFAR-10 Batch 1:  Cost: 1.200109601020813, Accuracy: 0.625\n",
      "Epoch 10, CIFAR-10 Batch 1:  Cost: 1.1855721473693848, Accuracy: 0.6000000238418579\n",
      "Epoch 11, CIFAR-10 Batch 1:  Cost: 1.141154170036316, Accuracy: 0.7000000476837158\n",
      "Epoch 12, CIFAR-10 Batch 1:  Cost: 1.0543603897094727, Accuracy: 0.7000000476837158\n",
      "Epoch 13, CIFAR-10 Batch 1:  Cost: 1.0244815349578857, Accuracy: 0.625\n",
      "Epoch 14, CIFAR-10 Batch 1:  Cost: 0.8912255167961121, Accuracy: 0.7250000238418579\n",
      "Epoch 15, CIFAR-10 Batch 1:  Cost: 0.9696443676948547, Accuracy: 0.6749999523162842\n",
      "Epoch 16, CIFAR-10 Batch 1:  Cost: 0.8483564853668213, Accuracy: 0.7250000238418579\n",
      "Epoch 17, CIFAR-10 Batch 1:  Cost: 0.8592904806137085, Accuracy: 0.7250000238418579\n",
      "Epoch 18, CIFAR-10 Batch 1:  Cost: 0.7917342782020569, Accuracy: 0.7000000476837158\n",
      "Epoch 19, CIFAR-10 Batch 1:  Cost: 0.7816817760467529, Accuracy: 0.7250000238418579\n",
      "Epoch 20, CIFAR-10 Batch 1:  Cost: 0.731770932674408, Accuracy: 0.75\n",
      "Epoch 21, CIFAR-10 Batch 1:  Cost: 0.6837141513824463, Accuracy: 0.8250000476837158\n",
      "Epoch 22, CIFAR-10 Batch 1:  Cost: 0.6471843719482422, Accuracy: 0.8000000715255737\n",
      "Epoch 23, CIFAR-10 Batch 1:  Cost: 0.7723528742790222, Accuracy: 0.800000011920929\n",
      "Epoch 24, CIFAR-10 Batch 1:  Cost: 0.6349186897277832, Accuracy: 0.7750000357627869\n",
      "Epoch 25, CIFAR-10 Batch 1:  Cost: 0.5443498492240906, Accuracy: 0.9000000357627869\n",
      "Epoch 26, CIFAR-10 Batch 1:  Cost: 0.5888385772705078, Accuracy: 0.8750000596046448\n",
      "Epoch 27, CIFAR-10 Batch 1:  Cost: 0.5118961334228516, Accuracy: 0.8750000596046448\n",
      "Epoch 28, CIFAR-10 Batch 1:  Cost: 0.3861513137817383, Accuracy: 0.949999988079071\n",
      "Epoch 29, CIFAR-10 Batch 1:  Cost: 0.4149758219718933, Accuracy: 0.8500000238418579\n",
      "Epoch 30, CIFAR-10 Batch 1:  Cost: 0.45545315742492676, Accuracy: 0.9000000357627869\n"
     ]
    }
   ],
   "source": [
    "\"\"\"\n",
    "DON'T MODIFY ANYTHING IN THIS CELL\n",
    "\"\"\"\n",
    "print('Checking the Training on a Single Batch...')\n",
    "with tf.Session() as sess:\n",
    "    # Initializing the variables\n",
    "    sess.run(tf.global_variables_initializer())\n",
    "    \n",
    "    # Training cycle\n",
    "    for epoch in range(epochs):\n",
    "        batch_i = 1\n",
    "        for batch_features, batch_labels in helper.load_preprocess_training_batch(batch_i, batch_size):\n",
    "            train_neural_network(sess, optimizer, keep_probability, batch_features, batch_labels)\n",
    "        print('Epoch {:>2}, CIFAR-10 Batch {}:  '.format(epoch + 1, batch_i), end='')\n",
    "        print_stats(sess, batch_features, batch_labels, cost, accuracy)"
   ]
  },
  {
   "cell_type": "markdown",
   "metadata": {
    "deletable": true,
    "editable": true
   },
   "source": [
    "### Fully Train the Model\n",
    "Now that you got a good accuracy with a single CIFAR-10 batch, try it with all five batches."
   ]
  },
  {
   "cell_type": "code",
   "execution_count": 17,
   "metadata": {
    "collapsed": false,
    "deletable": true,
    "editable": true
   },
   "outputs": [
    {
     "name": "stdout",
     "output_type": "stream",
     "text": [
      "Training...\n",
      "Epoch  1, CIFAR-10 Batch 1:  Cost: 2.196145534515381, Accuracy: 0.22500000894069672\n",
      "Epoch  1, CIFAR-10 Batch 2:  Cost: 1.8060939311981201, Accuracy: 0.2750000059604645\n",
      "Epoch  1, CIFAR-10 Batch 3:  Cost: 1.644826889038086, Accuracy: 0.5\n",
      "Epoch  1, CIFAR-10 Batch 4:  Cost: 1.7667384147644043, Accuracy: 0.25\n",
      "Epoch  1, CIFAR-10 Batch 5:  Cost: 1.6906225681304932, Accuracy: 0.40000003576278687\n",
      "Epoch  2, CIFAR-10 Batch 1:  Cost: 1.7949703931808472, Accuracy: 0.4750000238418579\n",
      "Epoch  2, CIFAR-10 Batch 2:  Cost: 1.5611672401428223, Accuracy: 0.4500000476837158\n",
      "Epoch  2, CIFAR-10 Batch 3:  Cost: 1.4589126110076904, Accuracy: 0.4749999940395355\n",
      "Epoch  2, CIFAR-10 Batch 4:  Cost: 1.5943794250488281, Accuracy: 0.3500000238418579\n",
      "Epoch  2, CIFAR-10 Batch 5:  Cost: 1.6231499910354614, Accuracy: 0.4000000059604645\n",
      "Epoch  3, CIFAR-10 Batch 1:  Cost: 1.6723403930664062, Accuracy: 0.44999998807907104\n",
      "Epoch  3, CIFAR-10 Batch 2:  Cost: 1.51094651222229, Accuracy: 0.550000011920929\n",
      "Epoch  3, CIFAR-10 Batch 3:  Cost: 1.4014039039611816, Accuracy: 0.4000000059604645\n",
      "Epoch  3, CIFAR-10 Batch 4:  Cost: 1.4657083749771118, Accuracy: 0.3999999761581421\n",
      "Epoch  3, CIFAR-10 Batch 5:  Cost: 1.5763583183288574, Accuracy: 0.5\n",
      "Epoch  4, CIFAR-10 Batch 1:  Cost: 1.5137913227081299, Accuracy: 0.5750000476837158\n",
      "Epoch  4, CIFAR-10 Batch 2:  Cost: 1.4023534059524536, Accuracy: 0.5\n",
      "Epoch  4, CIFAR-10 Batch 3:  Cost: 1.3200337886810303, Accuracy: 0.5000000596046448\n",
      "Epoch  4, CIFAR-10 Batch 4:  Cost: 1.3902373313903809, Accuracy: 0.44999998807907104\n",
      "Epoch  4, CIFAR-10 Batch 5:  Cost: 1.4857693910598755, Accuracy: 0.375\n",
      "Epoch  5, CIFAR-10 Batch 1:  Cost: 1.420424461364746, Accuracy: 0.42499998211860657\n",
      "Epoch  5, CIFAR-10 Batch 2:  Cost: 1.410323143005371, Accuracy: 0.5\n",
      "Epoch  5, CIFAR-10 Batch 3:  Cost: 1.3510425090789795, Accuracy: 0.4749999940395355\n",
      "Epoch  5, CIFAR-10 Batch 4:  Cost: 1.3287416696548462, Accuracy: 0.45000001788139343\n",
      "Epoch  5, CIFAR-10 Batch 5:  Cost: 1.4271771907806396, Accuracy: 0.45000001788139343\n",
      "Epoch  6, CIFAR-10 Batch 1:  Cost: 1.3779072761535645, Accuracy: 0.44999998807907104\n",
      "Epoch  6, CIFAR-10 Batch 2:  Cost: 1.2940865755081177, Accuracy: 0.550000011920929\n",
      "Epoch  6, CIFAR-10 Batch 3:  Cost: 1.226468563079834, Accuracy: 0.5\n",
      "Epoch  6, CIFAR-10 Batch 4:  Cost: 1.2484737634658813, Accuracy: 0.5750000476837158\n",
      "Epoch  6, CIFAR-10 Batch 5:  Cost: 1.2653257846832275, Accuracy: 0.574999988079071\n",
      "Epoch  7, CIFAR-10 Batch 1:  Cost: 1.3156427145004272, Accuracy: 0.5249999761581421\n",
      "Epoch  7, CIFAR-10 Batch 2:  Cost: 1.210144281387329, Accuracy: 0.5249999761581421\n",
      "Epoch  7, CIFAR-10 Batch 3:  Cost: 1.0639762878417969, Accuracy: 0.6499999761581421\n",
      "Epoch  7, CIFAR-10 Batch 4:  Cost: 1.2653833627700806, Accuracy: 0.6000000238418579\n",
      "Epoch  7, CIFAR-10 Batch 5:  Cost: 1.2228877544403076, Accuracy: 0.6499999761581421\n",
      "Epoch  8, CIFAR-10 Batch 1:  Cost: 1.2444109916687012, Accuracy: 0.4750000238418579\n",
      "Epoch  8, CIFAR-10 Batch 2:  Cost: 1.1815333366394043, Accuracy: 0.574999988079071\n",
      "Epoch  8, CIFAR-10 Batch 3:  Cost: 1.0121874809265137, Accuracy: 0.625\n",
      "Epoch  8, CIFAR-10 Batch 4:  Cost: 1.23514986038208, Accuracy: 0.625\n",
      "Epoch  8, CIFAR-10 Batch 5:  Cost: 1.3182251453399658, Accuracy: 0.5249999761581421\n",
      "Epoch  9, CIFAR-10 Batch 1:  Cost: 1.218205451965332, Accuracy: 0.6000000238418579\n",
      "Epoch  9, CIFAR-10 Batch 2:  Cost: 1.0791891813278198, Accuracy: 0.574999988079071\n",
      "Epoch  9, CIFAR-10 Batch 3:  Cost: 0.9693415760993958, Accuracy: 0.6000000238418579\n",
      "Epoch  9, CIFAR-10 Batch 4:  Cost: 1.1700685024261475, Accuracy: 0.5750000476837158\n",
      "Epoch  9, CIFAR-10 Batch 5:  Cost: 1.162318468093872, Accuracy: 0.7000000476837158\n",
      "Epoch 10, CIFAR-10 Batch 1:  Cost: 1.1166460514068604, Accuracy: 0.5750000476837158\n",
      "Epoch 10, CIFAR-10 Batch 2:  Cost: 1.0402443408966064, Accuracy: 0.574999988079071\n",
      "Epoch 10, CIFAR-10 Batch 3:  Cost: 0.9994990825653076, Accuracy: 0.699999988079071\n",
      "Epoch 10, CIFAR-10 Batch 4:  Cost: 1.2122365236282349, Accuracy: 0.5249999761581421\n",
      "Epoch 10, CIFAR-10 Batch 5:  Cost: 1.1226811408996582, Accuracy: 0.7749999761581421\n",
      "Epoch 11, CIFAR-10 Batch 1:  Cost: 1.0952237844467163, Accuracy: 0.550000011920929\n",
      "Epoch 11, CIFAR-10 Batch 2:  Cost: 1.0185928344726562, Accuracy: 0.625\n",
      "Epoch 11, CIFAR-10 Batch 3:  Cost: 0.8930585980415344, Accuracy: 0.7500000596046448\n",
      "Epoch 11, CIFAR-10 Batch 4:  Cost: 1.1282117366790771, Accuracy: 0.625\n",
      "Epoch 11, CIFAR-10 Batch 5:  Cost: 1.0875595808029175, Accuracy: 0.7000000476837158\n",
      "Epoch 12, CIFAR-10 Batch 1:  Cost: 1.1100070476531982, Accuracy: 0.5750000476837158\n",
      "Epoch 12, CIFAR-10 Batch 2:  Cost: 1.0396232604980469, Accuracy: 0.574999988079071\n",
      "Epoch 12, CIFAR-10 Batch 3:  Cost: 0.9230747222900391, Accuracy: 0.699999988079071\n",
      "Epoch 12, CIFAR-10 Batch 4:  Cost: 1.0084214210510254, Accuracy: 0.6250000596046448\n",
      "Epoch 12, CIFAR-10 Batch 5:  Cost: 1.0249106884002686, Accuracy: 0.7749999761581421\n",
      "Epoch 13, CIFAR-10 Batch 1:  Cost: 1.0287728309631348, Accuracy: 0.6750000715255737\n",
      "Epoch 13, CIFAR-10 Batch 2:  Cost: 0.918743371963501, Accuracy: 0.75\n",
      "Epoch 13, CIFAR-10 Batch 3:  Cost: 0.8220710158348083, Accuracy: 0.6750000715255737\n",
      "Epoch 13, CIFAR-10 Batch 4:  Cost: 0.9789911508560181, Accuracy: 0.6750000715255737\n",
      "Epoch 13, CIFAR-10 Batch 5:  Cost: 0.9922059774398804, Accuracy: 0.7000000476837158\n",
      "Epoch 14, CIFAR-10 Batch 1:  Cost: 1.0166525840759277, Accuracy: 0.6499999761581421\n",
      "Epoch 14, CIFAR-10 Batch 2:  Cost: 0.9480577111244202, Accuracy: 0.699999988079071\n",
      "Epoch 14, CIFAR-10 Batch 3:  Cost: 0.8768323659896851, Accuracy: 0.824999988079071\n",
      "Epoch 14, CIFAR-10 Batch 4:  Cost: 1.0441620349884033, Accuracy: 0.625\n",
      "Epoch 14, CIFAR-10 Batch 5:  Cost: 0.9347656965255737, Accuracy: 0.7000000476837158\n",
      "Epoch 15, CIFAR-10 Batch 1:  Cost: 0.9628069400787354, Accuracy: 0.6750000715255737\n",
      "Epoch 15, CIFAR-10 Batch 2:  Cost: 0.8181093335151672, Accuracy: 0.6749999523162842\n",
      "Epoch 15, CIFAR-10 Batch 3:  Cost: 0.7827657461166382, Accuracy: 0.8500000238418579\n",
      "Epoch 15, CIFAR-10 Batch 4:  Cost: 1.0255141258239746, Accuracy: 0.5750000476837158\n",
      "Epoch 15, CIFAR-10 Batch 5:  Cost: 0.9469872713088989, Accuracy: 0.75\n",
      "Epoch 16, CIFAR-10 Batch 1:  Cost: 0.9405276775360107, Accuracy: 0.7000000476837158\n",
      "Epoch 16, CIFAR-10 Batch 2:  Cost: 0.7853223085403442, Accuracy: 0.7500000596046448\n",
      "Epoch 16, CIFAR-10 Batch 3:  Cost: 0.7467476725578308, Accuracy: 0.824999988079071\n",
      "Epoch 16, CIFAR-10 Batch 4:  Cost: 0.8605770468711853, Accuracy: 0.7250000238418579\n",
      "Epoch 16, CIFAR-10 Batch 5:  Cost: 0.8749724626541138, Accuracy: 0.75\n",
      "Epoch 17, CIFAR-10 Batch 1:  Cost: 0.9412493705749512, Accuracy: 0.6499999761581421\n",
      "Epoch 17, CIFAR-10 Batch 2:  Cost: 0.7390362024307251, Accuracy: 0.7250000238418579\n",
      "Epoch 17, CIFAR-10 Batch 3:  Cost: 0.7287259101867676, Accuracy: 0.8500000238418579\n",
      "Epoch 17, CIFAR-10 Batch 4:  Cost: 0.8560440540313721, Accuracy: 0.675000011920929\n",
      "Epoch 17, CIFAR-10 Batch 5:  Cost: 0.8405396938323975, Accuracy: 0.7750000357627869\n",
      "Epoch 18, CIFAR-10 Batch 1:  Cost: 0.910536527633667, Accuracy: 0.6499999761581421\n",
      "Epoch 18, CIFAR-10 Batch 2:  Cost: 0.7255827784538269, Accuracy: 0.675000011920929\n",
      "Epoch 18, CIFAR-10 Batch 3:  Cost: 0.6607514023780823, Accuracy: 0.7749999761581421\n",
      "Epoch 18, CIFAR-10 Batch 4:  Cost: 0.8542182445526123, Accuracy: 0.625\n",
      "Epoch 18, CIFAR-10 Batch 5:  Cost: 0.8766067028045654, Accuracy: 0.7250000238418579\n",
      "Epoch 19, CIFAR-10 Batch 1:  Cost: 0.8416457772254944, Accuracy: 0.7250000238418579\n",
      "Epoch 19, CIFAR-10 Batch 2:  Cost: 0.7665365934371948, Accuracy: 0.7250000238418579\n",
      "Epoch 19, CIFAR-10 Batch 3:  Cost: 0.653820276260376, Accuracy: 0.8500000238418579\n",
      "Epoch 19, CIFAR-10 Batch 4:  Cost: 0.8365465402603149, Accuracy: 0.7250000238418579\n",
      "Epoch 19, CIFAR-10 Batch 5:  Cost: 0.80829918384552, Accuracy: 0.7250000238418579\n",
      "Epoch 20, CIFAR-10 Batch 1:  Cost: 0.7764114141464233, Accuracy: 0.6999999284744263\n",
      "Epoch 20, CIFAR-10 Batch 2:  Cost: 0.6995587944984436, Accuracy: 0.8000000715255737\n",
      "Epoch 20, CIFAR-10 Batch 3:  Cost: 0.6441071033477783, Accuracy: 0.800000011920929\n",
      "Epoch 20, CIFAR-10 Batch 4:  Cost: 0.8191272616386414, Accuracy: 0.6750000715255737\n",
      "Epoch 20, CIFAR-10 Batch 5:  Cost: 0.735942542552948, Accuracy: 0.7749999761581421\n",
      "Epoch 21, CIFAR-10 Batch 1:  Cost: 0.8728165626525879, Accuracy: 0.675000011920929\n",
      "Epoch 21, CIFAR-10 Batch 2:  Cost: 0.6375733017921448, Accuracy: 0.800000011920929\n",
      "Epoch 21, CIFAR-10 Batch 3:  Cost: 0.5997083783149719, Accuracy: 0.800000011920929\n",
      "Epoch 21, CIFAR-10 Batch 4:  Cost: 0.7189321517944336, Accuracy: 0.7749999761581421\n",
      "Epoch 21, CIFAR-10 Batch 5:  Cost: 0.7544671297073364, Accuracy: 0.800000011920929\n",
      "Epoch 22, CIFAR-10 Batch 1:  Cost: 0.6473942995071411, Accuracy: 0.8250000476837158\n",
      "Epoch 22, CIFAR-10 Batch 2:  Cost: 0.6807064414024353, Accuracy: 0.8000000715255737\n",
      "Epoch 22, CIFAR-10 Batch 3:  Cost: 0.6565117835998535, Accuracy: 0.8250000476837158\n",
      "Epoch 22, CIFAR-10 Batch 4:  Cost: 0.7792373895645142, Accuracy: 0.7250000238418579\n",
      "Epoch 22, CIFAR-10 Batch 5:  Cost: 0.6227281093597412, Accuracy: 0.8000000715255737\n",
      "Epoch 23, CIFAR-10 Batch 1:  Cost: 0.7471848726272583, Accuracy: 0.7749999761581421\n",
      "Epoch 23, CIFAR-10 Batch 2:  Cost: 0.6270188689231873, Accuracy: 0.8750000596046448\n",
      "Epoch 23, CIFAR-10 Batch 3:  Cost: 0.5404343008995056, Accuracy: 0.8750000596046448\n",
      "Epoch 23, CIFAR-10 Batch 4:  Cost: 0.7981113195419312, Accuracy: 0.7250000238418579\n",
      "Epoch 23, CIFAR-10 Batch 5:  Cost: 0.6772871017456055, Accuracy: 0.8500000238418579\n",
      "Epoch 24, CIFAR-10 Batch 1:  Cost: 0.849510908126831, Accuracy: 0.7250000238418579\n",
      "Epoch 24, CIFAR-10 Batch 2:  Cost: 0.6311874985694885, Accuracy: 0.8500000834465027\n",
      "Epoch 24, CIFAR-10 Batch 3:  Cost: 0.5237026214599609, Accuracy: 0.8750000596046448\n",
      "Epoch 24, CIFAR-10 Batch 4:  Cost: 0.7344207763671875, Accuracy: 0.75\n",
      "Epoch 24, CIFAR-10 Batch 5:  Cost: 0.5574337840080261, Accuracy: 0.875\n",
      "Epoch 25, CIFAR-10 Batch 1:  Cost: 0.7171435356140137, Accuracy: 0.7750000357627869\n",
      "Epoch 25, CIFAR-10 Batch 2:  Cost: 0.6264235973358154, Accuracy: 0.800000011920929\n",
      "Epoch 25, CIFAR-10 Batch 3:  Cost: 0.5005038976669312, Accuracy: 0.8500000834465027\n",
      "Epoch 25, CIFAR-10 Batch 4:  Cost: 0.7086479067802429, Accuracy: 0.7250000238418579\n",
      "Epoch 25, CIFAR-10 Batch 5:  Cost: 0.5368074774742126, Accuracy: 0.9000000357627869\n",
      "Epoch 26, CIFAR-10 Batch 1:  Cost: 0.6396188735961914, Accuracy: 0.8500000238418579\n",
      "Epoch 26, CIFAR-10 Batch 2:  Cost: 0.596172034740448, Accuracy: 0.8250000476837158\n",
      "Epoch 26, CIFAR-10 Batch 3:  Cost: 0.5494673252105713, Accuracy: 0.925000011920929\n",
      "Epoch 26, CIFAR-10 Batch 4:  Cost: 0.7525656223297119, Accuracy: 0.8000000715255737\n",
      "Epoch 26, CIFAR-10 Batch 5:  Cost: 0.5568394660949707, Accuracy: 0.9000000357627869\n",
      "Epoch 27, CIFAR-10 Batch 1:  Cost: 0.6594462394714355, Accuracy: 0.7750000357627869\n",
      "Epoch 27, CIFAR-10 Batch 2:  Cost: 0.511996328830719, Accuracy: 0.9000000357627869\n",
      "Epoch 27, CIFAR-10 Batch 3:  Cost: 0.5593331456184387, Accuracy: 0.9000000357627869\n",
      "Epoch 27, CIFAR-10 Batch 4:  Cost: 0.7289254665374756, Accuracy: 0.75\n",
      "Epoch 27, CIFAR-10 Batch 5:  Cost: 0.5135890245437622, Accuracy: 0.8999999761581421\n",
      "Epoch 28, CIFAR-10 Batch 1:  Cost: 0.6067445278167725, Accuracy: 0.8000000715255737\n",
      "Epoch 28, CIFAR-10 Batch 2:  Cost: 0.519787073135376, Accuracy: 0.8750000596046448\n",
      "Epoch 28, CIFAR-10 Batch 3:  Cost: 0.45984745025634766, Accuracy: 0.925000011920929\n",
      "Epoch 28, CIFAR-10 Batch 4:  Cost: 0.684483528137207, Accuracy: 0.800000011920929\n",
      "Epoch 28, CIFAR-10 Batch 5:  Cost: 0.5447119474411011, Accuracy: 0.8999999761581421\n",
      "Epoch 29, CIFAR-10 Batch 1:  Cost: 0.673969566822052, Accuracy: 0.7749999761581421\n",
      "Epoch 29, CIFAR-10 Batch 2:  Cost: 0.4926808178424835, Accuracy: 0.8750000596046448\n",
      "Epoch 29, CIFAR-10 Batch 3:  Cost: 0.5101808905601501, Accuracy: 0.8500000834465027\n",
      "Epoch 29, CIFAR-10 Batch 4:  Cost: 0.694610059261322, Accuracy: 0.824999988079071\n",
      "Epoch 29, CIFAR-10 Batch 5:  Cost: 0.5171687006950378, Accuracy: 0.925000011920929\n",
      "Epoch 30, CIFAR-10 Batch 1:  Cost: 0.6663448810577393, Accuracy: 0.8250000476837158\n",
      "Epoch 30, CIFAR-10 Batch 2:  Cost: 0.46441569924354553, Accuracy: 0.8750000596046448\n",
      "Epoch 30, CIFAR-10 Batch 3:  Cost: 0.44315069913864136, Accuracy: 0.9000000357627869\n",
      "Epoch 30, CIFAR-10 Batch 4:  Cost: 0.6935054063796997, Accuracy: 0.7750000357627869\n",
      "Epoch 30, CIFAR-10 Batch 5:  Cost: 0.5264672636985779, Accuracy: 0.9000000357627869\n"
     ]
    }
   ],
   "source": [
    "\"\"\"\n",
    "DON'T MODIFY ANYTHING IN THIS CELL\n",
    "\"\"\"\n",
    "save_model_path = './image_classification'\n",
    "\n",
    "print('Training...')\n",
    "with tf.Session() as sess:\n",
    "    # Initializing the variables\n",
    "    sess.run(tf.global_variables_initializer())\n",
    "    \n",
    "    # Training cycle\n",
    "    for epoch in range(epochs):\n",
    "        # Loop over all batches\n",
    "        n_batches = 5\n",
    "        for batch_i in range(1, n_batches + 1):\n",
    "            for batch_features, batch_labels in helper.load_preprocess_training_batch(batch_i, batch_size):\n",
    "                train_neural_network(sess, optimizer, keep_probability, batch_features, batch_labels)\n",
    "            print('Epoch {:>2}, CIFAR-10 Batch {}:  '.format(epoch + 1, batch_i), end='')\n",
    "            print_stats(sess, batch_features, batch_labels, cost, accuracy)\n",
    "            \n",
    "    # Save Model\n",
    "    saver = tf.train.Saver()\n",
    "    save_path = saver.save(sess, save_model_path)"
   ]
  },
  {
   "cell_type": "markdown",
   "metadata": {
    "deletable": true,
    "editable": true
   },
   "source": [
    "# Checkpoint\n",
    "The model has been saved to disk.\n",
    "## Test Model\n",
    "Test your model against the test dataset.  This will be your final accuracy. You should have an accuracy greater than 50%. If you don't, keep tweaking the model architecture and parameters."
   ]
  },
  {
   "cell_type": "code",
   "execution_count": 18,
   "metadata": {
    "collapsed": false,
    "deletable": true,
    "editable": true
   },
   "outputs": [
    {
     "name": "stdout",
     "output_type": "stream",
     "text": [
      "Testing Accuracy: 0.6116495253164557\n",
      "\n"
     ]
    },
    {
     "data": {
      "image/png": "[encoded data removed]",
      "text/plain": [
       "<matplotlib.figure.Figure at 0x7f4446545f60>"
      ]
     },
     "metadata": {
      "image/png": {
       "height": 319,
       "width": 355
      }
     },
     "output_type": "display_data"
    }
   ],
   "source": [
    "\"\"\"\n",
    "DON'T MODIFY ANYTHING IN THIS CELL\n",
    "\"\"\"\n",
    "%matplotlib inline\n",
    "%config InlineBackend.figure_format = 'retina'\n",
    "\n",
    "import tensorflow as tf\n",
    "import pickle\n",
    "import helper\n",
    "import random\n",
    "\n",
    "# Set batch size if not already set\n",
    "try:\n",
    "    if batch_size:\n",
    "        pass\n",
    "except NameError:\n",
    "    batch_size = 64\n",
    "\n",
    "save_model_path = './image_classification'\n",
    "n_samples = 4\n",
    "top_n_predictions = 3\n",
    "\n",
    "def test_model():\n",
    "    \"\"\"\n",
    "    Test the saved model against the test dataset\n",
    "    \"\"\"\n",
    "\n",
    "    test_features, test_labels = pickle.load(open('preprocess_test.p', mode='rb'))\n",
    "    loaded_graph = tf.Graph()\n",
    "\n",
    "    with tf.Session(graph=loaded_graph) as sess:\n",
    "        # Load model\n",
    "        loader = tf.train.import_meta_graph(save_model_path + '.meta')\n",
    "        loader.restore(sess, save_model_path)\n",
    "\n",
    "        # Get Tensors from loaded model\n",
    "        loaded_x = loaded_graph.get_tensor_by_name('x:0')\n",
    "        loaded_y = loaded_graph.get_tensor_by_name('y:0')\n",
    "        loaded_keep_prob = loaded_graph.get_tensor_by_name('keep_prob:0')\n",
    "        loaded_logits = loaded_graph.get_tensor_by_name('logits:0')\n",
    "        loaded_acc = loaded_graph.get_tensor_by_name('accuracy:0')\n",
    "        \n",
    "        # Get accuracy in batches for memory limitations\n",
    "        test_batch_acc_total = 0\n",
    "        test_batch_count = 0\n",
    "        \n",
    "        for test_feature_batch, test_label_batch in helper.batch_features_labels(test_features, test_labels, batch_size):\n",
    "            test_batch_acc_total += sess.run(\n",
    "                loaded_acc,\n",
    "                feed_dict={loaded_x: test_feature_batch, loaded_y: test_label_batch, loaded_keep_prob: 1.0})\n",
    "            test_batch_count += 1\n",
    "\n",
    "        print('Testing Accuracy: {}\\n'.format(test_batch_acc_total/test_batch_count))\n",
    "\n",
    "        # Print Random Samples\n",
    "        random_test_features, random_test_labels = tuple(zip(*random.sample(list(zip(test_features, test_labels)), n_samples)))\n",
    "        random_test_predictions = sess.run(\n",
    "            tf.nn.top_k(tf.nn.softmax(loaded_logits), top_n_predictions),\n",
    "            feed_dict={loaded_x: random_test_features, loaded_y: random_test_labels, loaded_keep_prob: 1.0})\n",
    "        helper.display_image_predictions(random_test_features, random_test_labels, random_test_predictions)\n",
    "\n",
    "\n",
    "test_model()"
   ]
  },
  {
   "cell_type": "markdown",
   "metadata": {
    "deletable": true,
    "editable": true
   },
   "source": [
    "## Why 50-80% Accuracy?\n",
    "You might be wondering why you can't get an accuracy any higher. First things first, 50% isn't bad for a simple CNN.  Pure guessing would get you 10% accuracy. However, you might notice people are getting scores [well above 80%](http://rodrigob.github.io/are_we_there_yet/build/classification_datasets_results.html#43494641522d3130).  That's because we haven't taught you all there is to know about neural networks. We still need to cover a few more techniques.\n",
    "## Submitting This Project\n",
    "When submitting this project, make sure to run all the cells before saving the notebook.  Save the notebook file as \"dlnd_image_classification.ipynb\" and save it as a HTML file under \"File\" -> \"Download as\".  Include the \"helper.py\" and \"problem_unittests.py\" files in your submission."
   ]
  }
 ],
 "metadata": {
  "anaconda-cloud": {},
  "kernelspec": {
   "display_name": "Python 3",
   "language": "python",
   "name": "python3"
  },
  "language_info": {
   "codemirror_mode": {
    "name": "ipython",
    "version": 3
   },
   "file_extension": ".py",
   "mimetype": "text/x-python",
   "name": "python",
   "nbconvert_exporter": "python",
   "pygments_lexer": "ipython3",
   "version": "3.5.2"
  },
  "widgets": {
   "state": {},
   "version": "1.1.2"
  }
 },
 "nbformat": 4,
 "nbformat_minor": 0
}
